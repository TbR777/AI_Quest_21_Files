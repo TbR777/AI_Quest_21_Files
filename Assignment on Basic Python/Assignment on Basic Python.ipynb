{
 "cells": [
  {
   "cell_type": "markdown",
   "id": "f3905bee",
   "metadata": {},
   "source": [
    "# Variables"
   ]
  },
  {
   "cell_type": "markdown",
   "id": "298862bf",
   "metadata": {},
   "source": [
    "### 1. Write a program that swaps the values of two variables.¶"
   ]
  },
  {
   "cell_type": "code",
   "execution_count": 6,
   "id": "f9e2eb39",
   "metadata": {},
   "outputs": [
    {
     "name": "stdout",
     "output_type": "stream",
     "text": [
      "Enter the value for variable 1: 7\n",
      "Enter the value for variable 2: 5\n",
      "Variable 1:  5\n",
      "Variable 2:  7\n"
     ]
    }
   ],
   "source": [
    "# Taking user inputs of two variables.\n",
    "var1 = input(\"Enter the value for variable 1: \")\n",
    "var2 = input(\"Enter the value for variable 2: \")\n",
    "\n",
    "# Storing value in temp variable\n",
    "temp = var1\n",
    "\n",
    "# Swapping the values\n",
    "var1 = var2\n",
    "var2 = temp\n",
    "\n",
    "# Printing\n",
    "print('Variable 1: ',var1)\n",
    "print('Variable 2: ',var2)\n"
   ]
  },
  {
   "cell_type": "markdown",
   "id": "53bed61b",
   "metadata": {},
   "source": [
    "### 2. Write a program that calculates the area of a rectangle given its length and width."
   ]
  },
  {
   "cell_type": "code",
   "execution_count": 11,
   "id": "c41d855b",
   "metadata": {},
   "outputs": [
    {
     "name": "stdout",
     "output_type": "stream",
     "text": [
      "Enter the length: 5\n",
      "Enter the width: 5\n",
      "The area of a rectangle is:  25.0\n"
     ]
    }
   ],
   "source": [
    "# Taking user input\n",
    "length_str = float(input(\"Enter the length: \"))\n",
    "width_str  = float(input(\"Enter the width: \"))\n",
    "\n",
    "# Calculating area\n",
    "area = length*width\n",
    "\n",
    "# Printing\n",
    "print(\"The area of a rectangle is: \",area)"
   ]
  },
  {
   "cell_type": "markdown",
   "id": "5fdeb598",
   "metadata": {},
   "source": [
    "### 3. Write a program that converts temperature from Fahrenheit to Celsius."
   ]
  },
  {
   "cell_type": "code",
   "execution_count": 13,
   "id": "83eca331",
   "metadata": {},
   "outputs": [
    {
     "name": "stdout",
     "output_type": "stream",
     "text": [
      "Enter the temperature in Fahrenheit: 84\n",
      "Temperature in celcius is 28.88888888888889 degree\n"
     ]
    }
   ],
   "source": [
    "# Taking user input\n",
    "fahrenheit = float(input(\"Enter the temperature in Fahrenheit: \"))\n",
    "\n",
    "# Formula for converting temperature from Fahrenheit to Celcius\n",
    "celcius = (fahrenheit - 32)*5/9\n",
    "\n",
    "# Printing\n",
    "print(\"Temperature in celcius is\",celcius,\"degree\")"
   ]
  },
  {
   "cell_type": "markdown",
   "id": "a31df24f",
   "metadata": {},
   "source": [
    "### 4. Write a program that calculates the volume of a sphere given its radius. "
   ]
  },
  {
   "cell_type": "code",
   "execution_count": 14,
   "id": "16c8c3dc",
   "metadata": {},
   "outputs": [
    {
     "name": "stdout",
     "output_type": "stream",
     "text": [
      "Enter the radius: 5\n",
      "The volume of a sphere is:  523.5999999999999\n"
     ]
    }
   ],
   "source": [
    "# Taking user input\n",
    "radius = float(input(\"Enter the radius: \"))\n",
    "\n",
    "# Formula for calculating the volume of a sphere\n",
    "volume = 4/3*3.1416*radius**3\n",
    "\n",
    "# Printing\n",
    "print(\"The volume of a sphere is: \",volume)"
   ]
  },
  {
   "cell_type": "markdown",
   "id": "3262a515",
   "metadata": {},
   "source": [
    "### 5. Write a program that finds the average of three numbers."
   ]
  },
  {
   "cell_type": "code",
   "execution_count": 18,
   "id": "4179dd3e",
   "metadata": {},
   "outputs": [
    {
     "name": "stdout",
     "output_type": "stream",
     "text": [
      "Enter the first number: 5\n",
      "Enter the second number: 5\n",
      "Enter the third number: 5\n",
      "The average of three numbers is:  5.0\n"
     ]
    }
   ],
   "source": [
    "# Taking user input\n",
    "first_num = float(input(\"Enter the first number: \"))\n",
    "second_num = float(input(\"Enter the second number: \"))\n",
    "third_num = float(input(\"Enter the third number: \"))\n",
    "\n",
    "# Formula for finding average\n",
    "avg = (first_num + second_num + third_num) / 3\n",
    "\n",
    "# Printing\n",
    "print(\"The average of three numbers is: \",avg)\n"
   ]
  },
  {
   "cell_type": "markdown",
   "id": "ac138a84",
   "metadata": {},
   "source": [
    "# If-elif-else"
   ]
  },
  {
   "cell_type": "markdown",
   "id": "f5e4bda2",
   "metadata": {},
   "source": [
    "### 6. Write a program that determines if a number is even or odd. "
   ]
  },
  {
   "cell_type": "code",
   "execution_count": 20,
   "id": "abb78d51",
   "metadata": {},
   "outputs": [
    {
     "name": "stdout",
     "output_type": "stream",
     "text": [
      "Enter the number: 5\n",
      "Number is Odd\n"
     ]
    }
   ],
   "source": [
    "# Taking user input\n",
    "num = int(input(\"Enter the number: \"))\n",
    "\n",
    "# Condition for number to be even\n",
    "if num % 2 == 0:\n",
    "    print(\"Number is Even\")\n",
    "else:\n",
    "    print(\"Number is Odd\")\n"
   ]
  },
  {
   "cell_type": "markdown",
   "id": "6333684f",
   "metadata": {},
   "source": [
    "### 7. Write a program that finds the maximum of three numbers."
   ]
  },
  {
   "cell_type": "code",
   "execution_count": 22,
   "id": "8a08f467",
   "metadata": {},
   "outputs": [
    {
     "name": "stdout",
     "output_type": "stream",
     "text": [
      "Enter the number: 5\n",
      "Enter the number: 6\n",
      "Enter the number: 7\n",
      "The maximum of three numbers 5 6 7 is: 7\n"
     ]
    }
   ],
   "source": [
    "# Taking user input\n",
    "num1 = int(input(\"Enter the number: \"))\n",
    "num2 = int(input(\"Enter the number: \"))\n",
    "num3 = int(input(\"Enter the number: \"))\n",
    "\n",
    "# Finding maximum of three numbers\n",
    "maximum = max(num1,num2,num3)\n",
    "\n",
    "# Printing\n",
    "print(\"The maximum of three numbers\",num1,num2,num3,\"is:\", maximum)"
   ]
  },
  {
   "cell_type": "markdown",
   "id": "0fb78ced",
   "metadata": {},
   "source": [
    "### 8. Write a program that determines if a year is a leap year or not."
   ]
  },
  {
   "cell_type": "code",
   "execution_count": 23,
   "id": "e65aa8d1",
   "metadata": {},
   "outputs": [
    {
     "name": "stdout",
     "output_type": "stream",
     "text": [
      "Enter the year: 2024\n",
      "It is a Leap Year\n"
     ]
    }
   ],
   "source": [
    "# Taking user input\n",
    "year = int(input(\"Enter the year: \"))\n",
    "\n",
    "# Condition for leap year\n",
    "if (year % 4 == 0 and year % 100 != 0) or (year % 400 == 0):\n",
    "    print(\"It is a Leap Year\")\n",
    "else: \n",
    "    print(\"It is not a Leap Year\")"
   ]
  },
  {
   "cell_type": "markdown",
   "id": "d0bf6f38",
   "metadata": {},
   "source": [
    "### 9. Write a program that determines if a number is positive, negative, or zero."
   ]
  },
  {
   "cell_type": "code",
   "execution_count": 27,
   "id": "3e4d07ec",
   "metadata": {},
   "outputs": [
    {
     "name": "stdout",
     "output_type": "stream",
     "text": [
      "Enter the number: 6\n",
      "Number is positive\n"
     ]
    }
   ],
   "source": [
    "# Taking user input\n",
    "num = int(input(\"Enter the number: \"))\n",
    "\n",
    "# Condition\n",
    "if num>0:\n",
    "    print(\"Number is positive\")\n",
    "elif num<0:\n",
    "    print(\"Number is negative\")\n",
    "else:\n",
    "    print(\"Number is zero\")"
   ]
  },
  {
   "cell_type": "markdown",
   "id": "502245ac",
   "metadata": {},
   "source": [
    "### 10. Write a program that calculates the grade based on a given percentage. "
   ]
  },
  {
   "cell_type": "code",
   "execution_count": 32,
   "id": "3c35f1cb",
   "metadata": {},
   "outputs": [
    {
     "name": "stdout",
     "output_type": "stream",
     "text": [
      "Enter the percentage: 40\n",
      "F\n"
     ]
    }
   ],
   "source": [
    "# Taking user input\n",
    "percentage = float(input(\"Enter the percentage: \"))\n",
    "\n",
    "# Conditions\n",
    "if percentage >= 93:\n",
    "    print(\"A\")\n",
    "elif (percentage >= 89 and percentage <= 93):\n",
    "    print(\"A-\")\n",
    "elif (percentage >= 86 and percentage <= 89):\n",
    "    print(\"B+\")\n",
    "elif (percentage >= 82 and percentage <= 86):\n",
    "    print(\"B\")\n",
    "elif (percentage >= 79 and percentage <= 82):\n",
    "    print(\"B-\")\n",
    "elif (percentage >= 75 and percentage <= 79):\n",
    "    print(\"C+\")\n",
    "elif (percentage >= 72 and percentage <= 75):\n",
    "    print(\"C\")\n",
    "elif (percentage >= 69 and percentage <= 72):\n",
    "    print(\"C-\")\n",
    "elif (percentage >= 65 and percentage <= 69):\n",
    "    print(\"D+\")\n",
    "elif (percentage >= 60 and percentage <= 65):\n",
    "    print(\"D\")\n",
    "else:\n",
    "    print(\"F\")"
   ]
  },
  {
   "cell_type": "markdown",
   "id": "971922c0",
   "metadata": {},
   "source": [
    "# For Loop"
   ]
  },
  {
   "cell_type": "markdown",
   "id": "046faa17",
   "metadata": {},
   "source": [
    "### 11. Write a program that prints the first `n` natural numbers."
   ]
  },
  {
   "cell_type": "code",
   "execution_count": 36,
   "id": "1ce05004",
   "metadata": {},
   "outputs": [
    {
     "name": "stdout",
     "output_type": "stream",
     "text": [
      "Enter the value of n: 5\n",
      "First 5 natural numbers are:\n",
      "1\n",
      "2\n",
      "3\n",
      "4\n",
      "5\n"
     ]
    }
   ],
   "source": [
    "# Taking user input \n",
    "n = int(input(\"Enter the value of n: \"))\n",
    "\n",
    "# Printing\n",
    "print(\"First\", n, \"natural numbers are:\")\n",
    "\n",
    "# Loop\n",
    "for i in range(1,n+1):\n",
    "    print(i)"
   ]
  },
  {
   "cell_type": "markdown",
   "id": "7bbf7372",
   "metadata": {},
   "source": [
    "### 12. Write a program that calculates the factorial of a number. "
   ]
  },
  {
   "cell_type": "code",
   "execution_count": 37,
   "id": "438f6a7d",
   "metadata": {},
   "outputs": [
    {
     "name": "stdout",
     "output_type": "stream",
     "text": [
      "Enter the number: 8\n",
      "Factorial of 8 is 40320\n"
     ]
    }
   ],
   "source": [
    "# Taking user input \n",
    "num = int(input(\"Enter the number: \"))\n",
    "\n",
    "# Checking if the input is non-negative\n",
    "if num < 0:\n",
    "    print(\"Factorial is not defined for negative numbers.\")\n",
    "else:\n",
    "    factorial = 1\n",
    "    for i in range(1, num + 1):\n",
    "        factorial *= i\n",
    "    print(\"Factorial of\", num, \"is\", factorial)"
   ]
  },
  {
   "cell_type": "markdown",
   "id": "81430d85",
   "metadata": {},
   "source": [
    "### 13. Write a program that generates a Fibonacci sequence of length `n`. "
   ]
  },
  {
   "cell_type": "code",
   "execution_count": 38,
   "id": "b0c24d39",
   "metadata": {},
   "outputs": [
    {
     "name": "stdout",
     "output_type": "stream",
     "text": [
      "Enter the length of the Fibonacci sequence: 5\n",
      "Fibonacci sequence of length 5 is:  [0, 1, 1, 2, 3]\n"
     ]
    }
   ],
   "source": [
    "# Taking user input\n",
    "length = int(input(\"Enter the length of the Fibonacci sequence: \"))\n",
    "\n",
    "# Initializing the first two numbers of the Fibonacci sequence\n",
    "fibonacci_sequence = [0, 1]\n",
    "\n",
    "# Generating the Fibonacci sequence\n",
    "for i in range(2, length):\n",
    "    next_number = fibonacci_sequence[-1] + fibonacci_sequence[-2]\n",
    "    fibonacci_sequence.append(next_number)\n",
    "\n",
    "# Printing\n",
    "print(\"Fibonacci sequence of length\", length, \"is: \",fibonacci_sequence)"
   ]
  },
  {
   "cell_type": "markdown",
   "id": "980cbd0f",
   "metadata": {},
   "source": [
    "### 14. Write a program that checks if a given number is prime or not."
   ]
  },
  {
   "cell_type": "code",
   "execution_count": 39,
   "id": "9a601654",
   "metadata": {},
   "outputs": [
    {
     "name": "stdout",
     "output_type": "stream",
     "text": [
      "Enter a number: 7\n",
      "7 is a prime number.\n"
     ]
    }
   ],
   "source": [
    "# Taking user input  \n",
    "num = int(input(\"Enter a number: \"))\n",
    "\n",
    "# Prime numbers are greater than 1\n",
    "if num > 1:\n",
    "    # Checking for factors\n",
    "    for i in range(2, num):\n",
    "        if (num % i) == 0:\n",
    "            print(num, \"is not a prime number.\")\n",
    "            print(i, \"times\", num // i, \"is\", num)\n",
    "            break\n",
    "    else:\n",
    "        print(num, \"is a prime number.\")\n",
    "else:\n",
    "    print(num, \"is not a prime number.\")"
   ]
  },
  {
   "cell_type": "markdown",
   "id": "c5f3545a",
   "metadata": {},
   "source": [
    "### 15. Write a program that prints the multiplication table of a given number."
   ]
  },
  {
   "cell_type": "code",
   "execution_count": 40,
   "id": "e8bc6e22",
   "metadata": {},
   "outputs": [
    {
     "name": "stdout",
     "output_type": "stream",
     "text": [
      "Enter a number: 5\n",
      "Multiplication table of 5 is:\n",
      "5 x 1 = 5\n",
      "5 x 2 = 10\n",
      "5 x 3 = 15\n",
      "5 x 4 = 20\n",
      "5 x 5 = 25\n",
      "5 x 6 = 30\n",
      "5 x 7 = 35\n",
      "5 x 8 = 40\n",
      "5 x 9 = 45\n",
      "5 x 10 = 50\n"
     ]
    }
   ],
   "source": [
    "# Taking user input  \n",
    "num = int(input(\"Enter a number: \"))\n",
    "\n",
    "# Printing the multiplication table\n",
    "print(\"Multiplication table of\", num, \"is:\")\n",
    "for i in range(1, 11):\n",
    "    print(num, \"x\", i, \"=\", num * i)"
   ]
  },
  {
   "cell_type": "markdown",
   "id": "04dfbe5c",
   "metadata": {},
   "source": [
    "# While Loop"
   ]
  },
  {
   "cell_type": "markdown",
   "id": "86e7ed53",
   "metadata": {},
   "source": [
    "### 16. Write a program that finds the sum of all even numbers between 1 and `n`."
   ]
  },
  {
   "cell_type": "code",
   "execution_count": 45,
   "id": "ff8b7b39",
   "metadata": {},
   "outputs": [
    {
     "name": "stdout",
     "output_type": "stream",
     "text": [
      "Enter the number: 5\n",
      "Sum of even numbers between 1 and 5 is: 6\n"
     ]
    }
   ],
   "source": [
    "# Taking user input \n",
    "n = int(input(\"Enter the number: \"))\n",
    "\n",
    "# Initializing the sum\n",
    "sum_even = 0\n",
    "\n",
    "# Calculating the sum of even numbers\n",
    "number = 2  # first even number\n",
    "while number <= n:\n",
    "    sum_even += number\n",
    "    number += 2\n",
    "\n",
    "# Printing the result\n",
    "print(\"Sum of even numbers between 1 and\", n, \"is:\", sum_even)"
   ]
  },
  {
   "cell_type": "markdown",
   "id": "3d221825",
   "metadata": {},
   "source": [
    "### 17. Write a program that reverses a given number. "
   ]
  },
  {
   "cell_type": "code",
   "execution_count": 46,
   "id": "fa8711b9",
   "metadata": {},
   "outputs": [
    {
     "name": "stdout",
     "output_type": "stream",
     "text": [
      "Enter a number to reverse: 205\n",
      "Reversed number: 502\n"
     ]
    }
   ],
   "source": [
    "# Taking user input\n",
    "number = int(input(\"Enter a number to reverse: \"))\n",
    "\n",
    "# Initializing variables\n",
    "reversed_number = 0\n",
    "\n",
    "# Reversing the number\n",
    "while number != 0:\n",
    "    # Extracting the last digit of the number\n",
    "    digit = number % 10\n",
    "    \n",
    "    # Appending the digit to the reversed number\n",
    "    reversed_number = reversed_number * 10 + digit\n",
    "    \n",
    "    # Removing the last digit from the original number\n",
    "    number //= 10\n",
    "\n",
    "# Printing the reversed number\n",
    "print(\"Reversed number:\", reversed_number)\n"
   ]
  },
  {
   "cell_type": "markdown",
   "id": "f2f72cfd",
   "metadata": {},
   "source": [
    "### 18. Write a program that checks if a given string, is a palindrome. "
   ]
  },
  {
   "cell_type": "code",
   "execution_count": 49,
   "id": "dd5fd98a",
   "metadata": {},
   "outputs": [
    {
     "name": "stdout",
     "output_type": "stream",
     "text": [
      "Enter a string: ABA\n",
      "The string is a palindrome.\n"
     ]
    }
   ],
   "source": [
    "# Taking user input \n",
    "string = input(\"Enter a string: \")\n",
    "\n",
    "# Removing spaces and converting to lowercase\n",
    "string = string.replace(\" \", \"\").lower()\n",
    "\n",
    "# Initializing pointers for the first and last characters\n",
    "start = 0\n",
    "end = len(string) - 1\n",
    "\n",
    "# Checking if the string is a palindrome\n",
    "is_palindrome = True\n",
    "while start < end and is_palindrome:\n",
    "    # Comparing characters from start and end of the string\n",
    "    if string[start] != string[end]:\n",
    "        is_palindrome = False\n",
    "    # Moving pointers towards the center\n",
    "    start += 1\n",
    "    end -= 1\n",
    "\n",
    "# Printing \n",
    "if is_palindrome:\n",
    "    print(\"The string is a palindrome.\")\n",
    "else:\n",
    "    print(\"The string is not a palindrome.\")\n"
   ]
  },
  {
   "cell_type": "markdown",
   "id": "39c7d2ca",
   "metadata": {},
   "source": [
    "### 19. Write a program that generates a random number and allows the user to guess it. "
   ]
  },
  {
   "cell_type": "code",
   "execution_count": null,
   "id": "d47594be",
   "metadata": {},
   "outputs": [
    {
     "name": "stdout",
     "output_type": "stream",
     "text": [
      "Guess the number between 1 and 100: 25\n",
      "Too low, try again.\n",
      "Guess the number between 1 and 100: 0\n",
      "Too low, try again.\n"
     ]
    }
   ],
   "source": [
    "import random\n",
    "\n",
    "# Generating a random number between 1 and 100\n",
    "random_number = random.randint(1, 100)\n",
    "\n",
    "# Initializing variables\n",
    "guess = None\n",
    "attempts = 0\n",
    "\n",
    "# Guessing game loop\n",
    "while guess != random_number:\n",
    "    # Taking input from the user\n",
    "    guess = int(input(\"Guess the number between 1 and 100: \"))\n",
    "    # Incrementing the number of attempts\n",
    "    attempts += 1\n",
    "    \n",
    "    # Checking the guess\n",
    "    if guess < random_number:\n",
    "        print(\"Too low, try again.\")\n",
    "    elif guess > random_number:\n",
    "        print(\"Too high, try again.\")\n",
    "    else:\n",
    "        print(\"Congratulations! You guessed it right in\", attempts, \"attempts.\")\n",
    "\n",
    "# End of the game\n"
   ]
  },
  {
   "cell_type": "markdown",
   "id": "e3be28d4",
   "metadata": {},
   "source": [
    "### 20. Write a program that finds the greatest common divisor (GCD) of two numbers. "
   ]
  },
  {
   "cell_type": "code",
   "execution_count": 1,
   "id": "680ee2ec",
   "metadata": {},
   "outputs": [
    {
     "name": "stdout",
     "output_type": "stream",
     "text": [
      "Enter the first number: 5\n",
      "Enter the second number: 8\n",
      "The GCD of 5 and 8 is: 1\n"
     ]
    }
   ],
   "source": [
    "# Taking input from the user\n",
    "num1 = int(input(\"Enter the first number: \"))\n",
    "num2 = int(input(\"Enter the second number: \"))\n",
    "\n",
    "# Initializing variables\n",
    "a = num1\n",
    "b = num2\n",
    "\n",
    "# Finding the GCD using the Euclidean algorithm\n",
    "while b != 0:\n",
    "    temp = b\n",
    "    b = a % b\n",
    "    a = temp\n",
    "\n",
    "# Printing the result\n",
    "print(\"The GCD of\", num1, \"and\", num2, \"is:\", a)\n"
   ]
  },
  {
   "cell_type": "code",
   "execution_count": null,
   "id": "c7bdc301",
   "metadata": {},
   "outputs": [],
   "source": []
  }
 ],
 "metadata": {
  "kernelspec": {
   "display_name": "Python 3 (ipykernel)",
   "language": "python",
   "name": "python3"
  },
  "language_info": {
   "codemirror_mode": {
    "name": "ipython",
    "version": 3
   },
   "file_extension": ".py",
   "mimetype": "text/x-python",
   "name": "python",
   "nbconvert_exporter": "python",
   "pygments_lexer": "ipython3",
   "version": "3.11.7"
  }
 },
 "nbformat": 4,
 "nbformat_minor": 5
}
