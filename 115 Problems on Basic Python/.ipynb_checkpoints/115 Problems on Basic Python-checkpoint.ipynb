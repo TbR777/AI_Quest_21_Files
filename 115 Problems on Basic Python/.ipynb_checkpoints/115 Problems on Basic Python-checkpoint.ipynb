{
 "cells": [
  {
   "cell_type": "markdown",
   "id": "428154b6",
   "metadata": {},
   "source": [
    "# 115 Problems on Basic Python | Python with Problem Solving "
   ]
  },
  {
   "cell_type": "markdown",
   "id": "e5e748f6",
   "metadata": {},
   "source": [
    "### 1. Variable Swap: Write a Python program to swap the values of two variables without using a temporary variable. "
   ]
  },
  {
   "cell_type": "code",
   "execution_count": 5,
   "id": "2b9e21f3",
   "metadata": {},
   "outputs": [
    {
     "name": "stdout",
     "output_type": "stream",
     "text": [
      "Enter first variable: 5\n",
      "Enter second variable: 8\n",
      "After swapping: \n",
      "The value of first variable is:  8\n",
      "The value of second variable is:  5\n"
     ]
    }
   ],
   "source": [
    "var1 = int(input(\"Enter first variable: \"))\n",
    "var2 = int(input(\"Enter second variable: \"))\n",
    "\n",
    "var1,var2 = var2,var1\n",
    "\n",
    "print(\"After swapping: \")\n",
    "print(\"The value of first variable is: \",var1)\n",
    "print(\"The value of second variable is: \",var2)"
   ]
  },
  {
   "cell_type": "markdown",
   "id": "48071e22",
   "metadata": {},
   "source": [
    "### 2. Even or Odd: Write a Python program that takes an integer as input and prints whether it is even or odd."
   ]
  },
  {
   "cell_type": "code",
   "execution_count": 7,
   "id": "9fdf066e",
   "metadata": {},
   "outputs": [
    {
     "name": "stdout",
     "output_type": "stream",
     "text": [
      "Enter a number: 7\n",
      "Odd\n"
     ]
    }
   ],
   "source": [
    "number = int(input(\"Enter a number: \"))\n",
    "\n",
    "if number%2==0:\n",
    "    print(\"Even\")\n",
    "else:\n",
    "    print(\"Odd\")"
   ]
  },
  {
   "cell_type": "markdown",
   "id": "d3e647d5",
   "metadata": {},
   "source": [
    "### 3. String Reverse: Write a Python function to reverse a given string and return the reversed string. "
   ]
  },
  {
   "cell_type": "code",
   "execution_count": 8,
   "id": "fbadcec3",
   "metadata": {},
   "outputs": [
    {
     "name": "stdout",
     "output_type": "stream",
     "text": [
      "dihsuT\n"
     ]
    }
   ],
   "source": [
    "def reverse_string(text):\n",
    "    \n",
    "  reversed_text = \"\"\n",
    "  for char in text:\n",
    "    reversed_text = char + reversed_text\n",
    "  return reversed_text\n",
    "\n",
    "text = \"Tushid\"\n",
    "reversed_text = reverse_string(text)\n",
    "print(reversed_text)\n"
   ]
  },
  {
   "cell_type": "markdown",
   "id": "e2b59a98",
   "metadata": {},
   "source": [
    "### 4. Type Conversion: Given a list of integers, write a Python program to convert each element of the list to a string. "
   ]
  },
  {
   "cell_type": "code",
   "execution_count": 15,
   "id": "10c6af28",
   "metadata": {},
   "outputs": [
    {
     "name": "stdout",
     "output_type": "stream",
     "text": [
      "['11', '12', '13', '14', '15']\n"
     ]
    }
   ],
   "source": [
    "int_list = [11, 12, 13, 14, 15]\n",
    "\n",
    "string_list = map(str, int_list)\n",
    "\n",
    "print(list(string_list))\n"
   ]
  },
  {
   "cell_type": "markdown",
   "id": "7c56414a",
   "metadata": {},
   "source": [
    "### 5. Temperature Converter: Write a Python program that converts a temperature in Celsius to Fahrenheit. Take the Celsius temperature as input from the user. "
   ]
  },
  {
   "cell_type": "code",
   "execution_count": 19,
   "id": "4a8b59b9",
   "metadata": {},
   "outputs": [
    {
     "name": "stdout",
     "output_type": "stream",
     "text": [
      "Enter the temperature in Celcius: 90\n",
      "The temperature in Fahrenheit is:  32.22222222222222\n"
     ]
    }
   ],
   "source": [
    "celcius = float(input(\"Enter the temperature in Celcius: \"))\n",
    "\n",
    "fahrenheit = (celcius -32)*5/9\n",
    "\n",
    "print(\"The temperature in Fahrenheit is: \",fahrenheit)"
   ]
  },
  {
   "cell_type": "markdown",
   "id": "b23cd6b8",
   "metadata": {},
   "source": [
    "### 6. Data Type Checker: Write a Python function that takes a variable as input and returns the data type of the variable as a string (e.g., “int”, “float”, “str”, “list”, etc.). "
   ]
  },
  {
   "cell_type": "code",
   "execution_count": 31,
   "id": "7802ee0f",
   "metadata": {},
   "outputs": [
    {
     "name": "stdout",
     "output_type": "stream",
     "text": [
      "Enter a variable: 23\n",
      "Data type: int\n"
     ]
    }
   ],
   "source": [
    "def variable(data_checker):\n",
    "    if isinstance(data_checker, int):\n",
    "        return \"int\"\n",
    "    elif isinstance(data_checker, float):\n",
    "        return \"float\"\n",
    "    elif isinstance(data_checker, str):\n",
    "        return \"str\"\n",
    "    elif isinstance(data_checker, list):\n",
    "        return \"list\"\n",
    "    else:\n",
    "        return \"unknown\"\n",
    "\n",
    "var = input(\"Enter a variable: \")\n",
    "print(\"Data type:\", variable(eval(var)))\n"
   ]
  },
  {
   "cell_type": "markdown",
   "id": "eef36bef",
   "metadata": {},
   "source": [
    "### 7. String Palindrome: Write a Python function to check if a given string is a palindrome or not. "
   ]
  },
  {
   "cell_type": "code",
   "execution_count": 39,
   "id": "74f53b0c",
   "metadata": {},
   "outputs": [
    {
     "name": "stdout",
     "output_type": "stream",
     "text": [
      "Enter a string: molom\n",
      "The string is a palindrome.\n"
     ]
    }
   ],
   "source": [
    "def is_palindrome(s):\n",
    "    \n",
    "    s = ''.join(char.lower() for char in s if char.isalnum())\n",
    "    return s == s[::-1]\n",
    "\n",
    "\n",
    "str = input(\"Enter a string: \")\n",
    "if is_palindrome(str):\n",
    "    print(\"The string is a palindrome.\")\n",
    "else:\n",
    "    print(\"The string is not a palindrome.\")\n"
   ]
  },
  {
   "cell_type": "markdown",
   "id": "6af5babe",
   "metadata": {},
   "source": [
    "### 8. String Reversal with Slicing: Write a Python function to reverse a given string using slicing. "
   ]
  },
  {
   "cell_type": "code",
   "execution_count": 2,
   "id": "91a42e84",
   "metadata": {},
   "outputs": [
    {
     "name": "stdout",
     "output_type": "stream",
     "text": [
      "taerg si nohtyP\n"
     ]
    }
   ],
   "source": [
    "def reverse(string):\n",
    "    string = string[::-1]\n",
    "    return string\n",
    "string = \"Python is great\"\n",
    "print(reverse(string))"
   ]
  },
  {
   "cell_type": "code",
   "execution_count": null,
   "id": "fcdcc6b7",
   "metadata": {},
   "outputs": [],
   "source": []
  }
 ],
 "metadata": {
  "kernelspec": {
   "display_name": "Python 3 (ipykernel)",
   "language": "python",
   "name": "python3"
  },
  "language_info": {
   "codemirror_mode": {
    "name": "ipython",
    "version": 3
   },
   "file_extension": ".py",
   "mimetype": "text/x-python",
   "name": "python",
   "nbconvert_exporter": "python",
   "pygments_lexer": "ipython3",
   "version": "3.11.7"
  }
 },
 "nbformat": 4,
 "nbformat_minor": 5
}
