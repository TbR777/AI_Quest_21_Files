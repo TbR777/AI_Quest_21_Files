{
 "cells": [
  {
   "cell_type": "markdown",
   "id": "428154b6",
   "metadata": {},
   "source": [
    "# 115 Problems on Basic Python | Python with Problem Solving "
   ]
  },
  {
   "cell_type": "markdown",
   "id": "e5e748f6",
   "metadata": {},
   "source": [
    "### 1. Variable Swap: Write a Python program to swap the values of two variables without using a temporary variable. "
   ]
  },
  {
   "cell_type": "code",
   "execution_count": 1,
   "id": "2b9e21f3",
   "metadata": {},
   "outputs": [
    {
     "name": "stdout",
     "output_type": "stream",
     "text": [
      "Enter first variable: 7\n",
      "Enter second variable: 5\n",
      "After swapping:  5 7\n"
     ]
    }
   ],
   "source": [
    "var1 = int(input(\"Enter first variable: \"))\n",
    "var2 = int(input(\"Enter second variable: \"))\n",
    "\n",
    "var1, var2 = var2, var1\n",
    "\n",
    "print(\"After swapping: \", var1, var2)"
   ]
  },
  {
   "cell_type": "markdown",
   "id": "48071e22",
   "metadata": {},
   "source": [
    "### 2. Even or Odd: Write a Python program that takes an integer as input and prints whether it is even or odd."
   ]
  },
  {
   "cell_type": "code",
   "execution_count": 2,
   "id": "9fdf066e",
   "metadata": {},
   "outputs": [
    {
     "name": "stdout",
     "output_type": "stream",
     "text": [
      "Enter a number: 8\n",
      "Even\n"
     ]
    }
   ],
   "source": [
    "number = int(input(\"Enter a number: \"))\n",
    "\n",
    "if number%2==0:\n",
    "    print(\"Even\")\n",
    "else:\n",
    "    print(\"Odd\")"
   ]
  },
  {
   "cell_type": "markdown",
   "id": "d3e647d5",
   "metadata": {},
   "source": [
    "### 3. String Reverse: Write a Python function to reverse a given string and return the reversed string. "
   ]
  },
  {
   "cell_type": "code",
   "execution_count": 12,
   "id": "fbadcec3",
   "metadata": {},
   "outputs": [
    {
     "name": "stdout",
     "output_type": "stream",
     "text": [
      "dihsuT\n"
     ]
    }
   ],
   "source": [
    "my_name = 'Tushid'\n",
    "reverse_string = my_name[::-1]\n",
    "print(reverse_string)    "
   ]
  },
  {
   "cell_type": "markdown",
   "id": "e2b59a98",
   "metadata": {},
   "source": [
    "### 4. Type Conversion: Given a list of integers, write a Python program to convert each element of the list to a string. "
   ]
  },
  {
   "cell_type": "code",
   "execution_count": 14,
   "id": "10c6af28",
   "metadata": {},
   "outputs": [
    {
     "name": "stdout",
     "output_type": "stream",
     "text": [
      "['11', '12', '13', '14', '15']\n"
     ]
    }
   ],
   "source": [
    "int_list = [11, 12, 13, 14, 15]\n",
    "string_list = map(str, int_list)\n",
    "print(list(string_list))"
   ]
  },
  {
   "cell_type": "markdown",
   "id": "7c56414a",
   "metadata": {},
   "source": [
    "### 5. Temperature Converter: Write a Python program that converts a temperature in Celsius to Fahrenheit. Take the Celsius temperature as input from the user. "
   ]
  },
  {
   "cell_type": "code",
   "execution_count": 19,
   "id": "4a8b59b9",
   "metadata": {},
   "outputs": [
    {
     "name": "stdout",
     "output_type": "stream",
     "text": [
      "Enter the temperature in Celcius: 5\n",
      "The temperature in Fahrenheit is:  41.0\n"
     ]
    }
   ],
   "source": [
    "celcius = float(input(\"Enter the temperature in Celcius: \"))\n",
    "fahrenheit = (celcius * 9)/5 + 32\n",
    "print(\"The temperature in Fahrenheit is: \",fahrenheit)"
   ]
  },
  {
   "cell_type": "markdown",
   "id": "b23cd6b8",
   "metadata": {},
   "source": [
    "### 6. Data Type Checker: Write a Python function that takes a variable as input and returns the data type of the variable as a string (e.g., “int”, “float”, “str”, “list”, etc.). "
   ]
  },
  {
   "cell_type": "code",
   "execution_count": 26,
   "id": "7802ee0f",
   "metadata": {},
   "outputs": [
    {
     "name": "stdout",
     "output_type": "stream",
     "text": [
      "<class 'int'>\n",
      "<class 'float'>\n",
      "<class 'str'>\n",
      "<class 'list'>\n"
     ]
    }
   ],
   "source": [
    "x = 7\n",
    "print(type(x))\n",
    "\n",
    "y = 0.5\n",
    "print(type(y))\n",
    "\n",
    "z = 'Tushid'\n",
    "print(type(z))\n",
    "\n",
    "l = [1,2,3,4,5]\n",
    "print(type(l))"
   ]
  },
  {
   "cell_type": "markdown",
   "id": "eef36bef",
   "metadata": {},
   "source": [
    "### 7. String Palindrome: Write a Python function to check if a given string is a palindrome or not. "
   ]
  },
  {
   "cell_type": "code",
   "execution_count": 29,
   "id": "74f53b0c",
   "metadata": {},
   "outputs": [
    {
     "name": "stdout",
     "output_type": "stream",
     "text": [
      "Enter a string: madam\n",
      "The string is palindrome\n"
     ]
    }
   ],
   "source": [
    "string = input(\"Enter a string: \")\n",
    "palindrome = string[::-1]\n",
    "\n",
    "if string == palindrome:\n",
    "    print(\"The string is palindrome\")\n",
    "else: \n",
    "    print(\"The strinf is not a palindrome\")"
   ]
  },
  {
   "cell_type": "markdown",
   "id": "fd6f3689",
   "metadata": {},
   "source": [
    "### 8. String Reversal with Slicing: Write a Python function to reverse a given string using slicing. "
   ]
  },
  {
   "cell_type": "code",
   "execution_count": 33,
   "id": "526b44bd",
   "metadata": {},
   "outputs": [
    {
     "name": "stdout",
     "output_type": "stream",
     "text": [
      "Enter any string: Tushid\n",
      "dihsuT\n"
     ]
    }
   ],
   "source": [
    "Orginal_string= input('Enter any string: ')\n",
    "reverse_string= Orginal_string[::-1]\n",
    "\n",
    "print(reverse_string)"
   ]
  },
  {
   "cell_type": "markdown",
   "id": "88a2901f",
   "metadata": {},
   "source": [
    "### 9. String Concatenation: Write a Python program that takes two strings as input and concatenates them into a single string without using the + operator. "
   ]
  },
  {
   "cell_type": "code",
   "execution_count": 34,
   "id": "5f14354d",
   "metadata": {},
   "outputs": [
    {
     "name": "stdout",
     "output_type": "stream",
     "text": [
      "Enter first string: Tushid\n",
      "Enter second string: Barua\n",
      "TushidBarua\n"
     ]
    }
   ],
   "source": [
    "str1 = input(\"Enter first string: \")\n",
    "str2 = input(\"Enter second string: \")\n",
    "\n",
    "concatenate_str = ''.join([str1,str2])\n",
    "print(concatenate_str)"
   ]
  },
  {
   "cell_type": "markdown",
   "id": "4fd1522f",
   "metadata": {},
   "source": [
    "### 10. Typecasting Challenge: Given three variables: a = ‘100’, b = 25, and c = ‘10.5’, write a Python program to perform the following operations and print the results: – Convert a to an integer and add it to b. – Convert c to a float and subtract it from the result of the first operation. – Convert the final result to a string and concatenate it with the string ” is the answer.” "
   ]
  },
  {
   "cell_type": "code",
   "execution_count": 38,
   "id": "1166a9dd",
   "metadata": {},
   "outputs": [
    {
     "name": "stdout",
     "output_type": "stream",
     "text": [
      "114.5 is the answer\n"
     ]
    }
   ],
   "source": [
    "a = 100\n",
    "b = 25\n",
    "c = 10.5\n",
    "\n",
    "a_int = int(a)\n",
    "c_float = float(c)\n",
    "\n",
    "addition = a_int + b\n",
    "subtraction = addition - c_float\n",
    "\n",
    "final_result = str(subtraction)\n",
    "concatenate = final_result + '' + ' is the answer'\n",
    "print(concatenate)"
   ]
  },
  {
   "cell_type": "markdown",
   "id": "e42452b1",
   "metadata": {},
   "source": [
    "# Python Conditional Statements: "
   ]
  },
  {
   "cell_type": "markdown",
   "id": "f6857065",
   "metadata": {},
   "source": [
    "### 11. Positive, Negative, or Zero: Write a Python program that takes a number as input and prints whether it is positive, negative, or zero "
   ]
  },
  {
   "cell_type": "code",
   "execution_count": 44,
   "id": "0b44d889",
   "metadata": {},
   "outputs": [
    {
     "name": "stdout",
     "output_type": "stream",
     "text": [
      "Enter any number: -1\n",
      "Negative Number\n"
     ]
    }
   ],
   "source": [
    "num = int(input('Enter any number: '))\n",
    "\n",
    "if num>0:\n",
    "    print(\"Positive Number\")\n",
    "elif num<0:\n",
    "    print(\"Negative Number\")\n",
    "else:\n",
    "    print(\"Number is zero\")"
   ]
  },
  {
   "cell_type": "markdown",
   "id": "44b65f81",
   "metadata": {},
   "source": [
    "### 12. Largest of Three Numbers: Write a Python program that takes three numbers as input and prints the largest among them. "
   ]
  },
  {
   "cell_type": "code",
   "execution_count": 48,
   "id": "7f9786c2",
   "metadata": {},
   "outputs": [
    {
     "name": "stdout",
     "output_type": "stream",
     "text": [
      "Enter a number: 3\n",
      "Enter a number: 4\n",
      "Enter a number: 5\n",
      "5 is the largest number\n"
     ]
    }
   ],
   "source": [
    "a = int(input(\"Enter a number: \"))\n",
    "b = int(input(\"Enter a number: \"))\n",
    "c = int(input(\"Enter a number: \"))\n",
    "\n",
    "if a>b and a>c:\n",
    "    print(a, 'is the largest number')\n",
    "elif b>a and b>c:\n",
    "    print(b, 'is the largest number')\n",
    "else: \n",
    "    print(c, 'is the largest number')"
   ]
  },
  {
   "cell_type": "markdown",
   "id": "2bbc6e70",
   "metadata": {},
   "source": [
    "### 13. Leap Year Checker: Write a Python program that takes a year as input and determines if it is a leap year or not. "
   ]
  },
  {
   "cell_type": "code",
   "execution_count": 50,
   "id": "b7f7f91b",
   "metadata": {},
   "outputs": [
    {
     "name": "stdout",
     "output_type": "stream",
     "text": [
      "Enter any year: 2018\n",
      "2018 is not a leap year\n"
     ]
    }
   ],
   "source": [
    "year = int(input(\"Enter any year: \"))\n",
    "\n",
    "if year % 4 == 0 and year % 100 != 0:\n",
    "        print(year, 'is a leap year')\n",
    "elif year % 100 == 0 and year % 400 == 0:\n",
    "    print(year, 'is a leap year')\n",
    "else:\n",
    "    print(year, 'is not a leap year')"
   ]
  },
  {
   "cell_type": "markdown",
   "id": "5dd8ae5c",
   "metadata": {},
   "source": [
    "### 14. Grades Classification: Write a Python program that takes a student’s percentage as input and prints their corresponding grade according to the following criteria: – 90% or above: A+ – 80-89%: A – 70-79%: B – 60- 69%: C – Below 60%: Fail "
   ]
  },
  {
   "cell_type": "code",
   "execution_count": 54,
   "id": "a2d13296",
   "metadata": {},
   "outputs": [
    {
     "name": "stdout",
     "output_type": "stream",
     "text": [
      "Enter students percentage: 59.99\n",
      "Fail\n"
     ]
    }
   ],
   "source": [
    "percentage = float(input(\"Enter students percentage: \"))\n",
    "\n",
    "if percentage>90:\n",
    "    print('A+')\n",
    "elif percentage<89 and percentage>80:\n",
    "    print('A')\n",
    "elif percentage<79 and percentage>70:\n",
    "    print('B')\n",
    "elif percentage<69 and percentage>60:\n",
    "    print('C')\n",
    "elif percentage<60:\n",
    "    print('Fail')\n",
    "    "
   ]
  },
  {
   "cell_type": "markdown",
   "id": "c05aa07b",
   "metadata": {},
   "source": [
    "### 15. Vowel or Consonant: Write a Python program that takes a single character as input and determines whether it is a vowel or a consonant. "
   ]
  },
  {
   "cell_type": "code",
   "execution_count": 58,
   "id": "b6393c66",
   "metadata": {},
   "outputs": [
    {
     "name": "stdout",
     "output_type": "stream",
     "text": [
      "Enter any character: A\n",
      "Character is a vowel\n"
     ]
    }
   ],
   "source": [
    "character = str(input(\"Enter any character: \"))\n",
    "\n",
    "if character in ['a','e','i','o','u','A','E','I','O','U']:\n",
    "                 print('Character is a vowel')\n",
    "else: \n",
    "    print('Character is a consonant')"
   ]
  },
  {
   "cell_type": "markdown",
   "id": "b8a6971d",
   "metadata": {},
   "source": [
    "### 16. Time Classification: Write a Python program that takes the time in hours (24-hour format) as input and prints “Good Morning”, “Good Afternoon”, “Good Evening”, or “Good Night” based on the time "
   ]
  },
  {
   "cell_type": "code",
   "execution_count": 68,
   "id": "7c623a0a",
   "metadata": {},
   "outputs": [
    {
     "name": "stdout",
     "output_type": "stream",
     "text": [
      "Enter any hour in (24-hour format): 25\n",
      "Invalid hour! Please enter a value between 0 and 23.\n"
     ]
    }
   ],
   "source": [
    "hour = int(input(\"Enter any hour in (24-hour format): \"))\n",
    "\n",
    "if hour<0 or hour>23:\n",
    "    print('Invalid hour! Please enter a value between 0 and 23.')\n",
    "elif hour<=5 and hour<12:\n",
    "     print(\"Good Morning\")\n",
    "elif hour<=12 and hour< 17:\n",
    "    print(\"Good Afternoon\")\n",
    "elif hour<=17 and hour<21:\n",
    "    print(\"Good Evening\")\n",
    "else:\n",
    "    print(\"Good Night\")"
   ]
  },
  {
   "cell_type": "code",
   "execution_count": null,
   "id": "eb2e65f1",
   "metadata": {},
   "outputs": [],
   "source": []
  }
 ],
 "metadata": {
  "kernelspec": {
   "display_name": "Python 3 (ipykernel)",
   "language": "python",
   "name": "python3"
  },
  "language_info": {
   "codemirror_mode": {
    "name": "ipython",
    "version": 3
   },
   "file_extension": ".py",
   "mimetype": "text/x-python",
   "name": "python",
   "nbconvert_exporter": "python",
   "pygments_lexer": "ipython3",
   "version": "3.11.7"
  }
 },
 "nbformat": 4,
 "nbformat_minor": 5
}
