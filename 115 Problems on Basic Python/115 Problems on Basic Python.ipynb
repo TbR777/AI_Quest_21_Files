{
 "cells": [
  {
   "cell_type": "markdown",
   "id": "428154b6",
   "metadata": {},
   "source": [
    "# 115 Problems on Basic Python | Python with Problem Solving "
   ]
  },
  {
   "cell_type": "markdown",
   "id": "e5e748f6",
   "metadata": {},
   "source": [
    "### 1. Variable Swap: Write a Python program to swap the values of two variables without using a temporary variable. "
   ]
  },
  {
   "cell_type": "code",
   "execution_count": 1,
   "id": "2b9e21f3",
   "metadata": {},
   "outputs": [
    {
     "name": "stdout",
     "output_type": "stream",
     "text": [
      "Enter first variable: 5\n",
      "Enter second variable: 8\n",
      "After swapping: \n",
      "The value of first variable is:  8\n",
      "The value of second variable is:  5\n"
     ]
    }
   ],
   "source": [
    "var1 = int(input(\"Enter first variable: \"))\n",
    "var2 = int(input(\"Enter second variable: \"))\n",
    "\n",
    "var1,var2 = var2,var1\n",
    "\n",
    "print(\"After swapping: \")\n",
    "print(\"The value of first variable is: \",var1)\n",
    "print(\"The value of second variable is: \",var2)"
   ]
  },
  {
   "cell_type": "markdown",
   "id": "48071e22",
   "metadata": {},
   "source": [
    "### 2. Even or Odd: Write a Python program that takes an integer as input and prints whether it is even or odd."
   ]
  },
  {
   "cell_type": "code",
   "execution_count": 2,
   "id": "9fdf066e",
   "metadata": {},
   "outputs": [
    {
     "name": "stdout",
     "output_type": "stream",
     "text": [
      "Enter a number: 7\n",
      "Odd\n"
     ]
    }
   ],
   "source": [
    "number = int(input(\"Enter a number: \"))\n",
    "\n",
    "if number%2==0:\n",
    "    print(\"Even\")\n",
    "else:\n",
    "    print(\"Odd\")"
   ]
  },
  {
   "cell_type": "markdown",
   "id": "d3e647d5",
   "metadata": {},
   "source": [
    "### 3. String Reverse: Write a Python function to reverse a given string and return the reversed string. "
   ]
  },
  {
   "cell_type": "code",
   "execution_count": 3,
   "id": "fbadcec3",
   "metadata": {},
   "outputs": [
    {
     "name": "stdout",
     "output_type": "stream",
     "text": [
      "dihsuT\n"
     ]
    }
   ],
   "source": [
    "def reverse_string(text):\n",
    "    \n",
    "  reversed_text = \"\"\n",
    "  for char in text:\n",
    "    reversed_text = char + reversed_text\n",
    "  return reversed_text\n",
    "\n",
    "text = \"Tushid\"\n",
    "reversed_text = reverse_string(text)\n",
    "print(reversed_text)\n"
   ]
  },
  {
   "cell_type": "markdown",
   "id": "e2b59a98",
   "metadata": {},
   "source": [
    "### 4. Type Conversion: Given a list of integers, write a Python program to convert each element of the list to a string. "
   ]
  },
  {
   "cell_type": "code",
   "execution_count": 4,
   "id": "10c6af28",
   "metadata": {},
   "outputs": [
    {
     "name": "stdout",
     "output_type": "stream",
     "text": [
      "['11', '12', '13', '14', '15']\n"
     ]
    }
   ],
   "source": [
    "int_list = [11, 12, 13, 14, 15]\n",
    "\n",
    "string_list = map(str, int_list)\n",
    "\n",
    "print(list(string_list))\n"
   ]
  },
  {
   "cell_type": "markdown",
   "id": "7c56414a",
   "metadata": {},
   "source": [
    "### 5. Temperature Converter: Write a Python program that converts a temperature in Celsius to Fahrenheit. Take the Celsius temperature as input from the user. "
   ]
  },
  {
   "cell_type": "code",
   "execution_count": 5,
   "id": "4a8b59b9",
   "metadata": {},
   "outputs": [
    {
     "name": "stdout",
     "output_type": "stream",
     "text": [
      "Enter the temperature in Celcius: 90\n",
      "The temperature in Fahrenheit is:  32.22222222222222\n"
     ]
    }
   ],
   "source": [
    "celcius = float(input(\"Enter the temperature in Celcius: \"))\n",
    "\n",
    "fahrenheit = (celcius -32)*5/9\n",
    "\n",
    "print(\"The temperature in Fahrenheit is: \",fahrenheit)"
   ]
  },
  {
   "cell_type": "markdown",
   "id": "b23cd6b8",
   "metadata": {},
   "source": [
    "### 6. Data Type Checker: Write a Python function that takes a variable as input and returns the data type of the variable as a string (e.g., “int”, “float”, “str”, “list”, etc.). "
   ]
  },
  {
   "cell_type": "code",
   "execution_count": 6,
   "id": "7802ee0f",
   "metadata": {},
   "outputs": [
    {
     "name": "stdout",
     "output_type": "stream",
     "text": [
      "Enter a variable: 23\n",
      "Data type: int\n"
     ]
    }
   ],
   "source": [
    "def variable(data_checker):\n",
    "    if isinstance(data_checker, int):\n",
    "        return \"int\"\n",
    "    elif isinstance(data_checker, float):\n",
    "        return \"float\"\n",
    "    elif isinstance(data_checker, str):\n",
    "        return \"str\"\n",
    "    elif isinstance(data_checker, list):\n",
    "        return \"list\"\n",
    "    else:\n",
    "        return \"unknown\"\n",
    "\n",
    "var = input(\"Enter a variable: \")\n",
    "print(\"Data type:\", variable(eval(var)))\n"
   ]
  },
  {
   "cell_type": "markdown",
   "id": "eef36bef",
   "metadata": {},
   "source": [
    "### 7. String Palindrome: Write a Python function to check if a given string is a palindrome or not. "
   ]
  },
  {
   "cell_type": "code",
   "execution_count": 7,
   "id": "74f53b0c",
   "metadata": {},
   "outputs": [
    {
     "name": "stdout",
     "output_type": "stream",
     "text": [
      "Enter a string: molom\n",
      "The string is a palindrome.\n"
     ]
    }
   ],
   "source": [
    "def is_palindrome(s):\n",
    "    \n",
    "    s = ''.join(char.lower() for char in s if char.isalnum())\n",
    "    return s == s[::-1]\n",
    "\n",
    "\n",
    "str = input(\"Enter a string: \")\n",
    "if is_palindrome(str):\n",
    "    print(\"The string is a palindrome.\")\n",
    "else:\n",
    "    print(\"The string is not a palindrome.\")\n"
   ]
  },
  {
   "cell_type": "markdown",
   "id": "fd6f3689",
   "metadata": {},
   "source": [
    "### 8. String Reversal with Slicing: Write a Python function to reverse a given string using slicing. "
   ]
  },
  {
   "cell_type": "code",
   "execution_count": 8,
   "id": "526b44bd",
   "metadata": {},
   "outputs": [
    {
     "name": "stdout",
     "output_type": "stream",
     "text": [
      "taerg si nohtyP\n"
     ]
    }
   ],
   "source": [
    "def reverse(string):\n",
    "    string = string[::-1]\n",
    "    return string\n",
    "string = \"Python is great\"\n",
    "print(reverse(string))"
   ]
  },
  {
   "cell_type": "markdown",
   "id": "88a2901f",
   "metadata": {},
   "source": [
    "### 9. String Concatenation: Write a Python program that takes two strings as input and concatenates them into a single string without using the + operator. "
   ]
  },
  {
   "cell_type": "code",
   "execution_count": 9,
   "id": "5f14354d",
   "metadata": {},
   "outputs": [
    {
     "name": "stdout",
     "output_type": "stream",
     "text": [
      "Welcome Sir\n"
     ]
    }
   ],
   "source": [
    "def stringConcate(string1, string2):\n",
    "    string3 = \" \".join([string1, string2])\n",
    "    return string3\n",
    "print(stringConcate(\"Welcome\", \"Sir\"))"
   ]
  },
  {
   "cell_type": "markdown",
   "id": "4fd1522f",
   "metadata": {},
   "source": [
    "### 10. Typecasting Challenge: Given three variables: a = ‘100’, b = 25, and c = ‘10.5’, write a Python program to perform the following operations and print the results: – Convert a to an integer and add it to b. – Convert c to a float and subtract it from the result of the first operation. – Convert the final result to a string and concatenate it with the string ” is the answer.” "
   ]
  },
  {
   "cell_type": "code",
   "execution_count": 23,
   "id": "1166a9dd",
   "metadata": {},
   "outputs": [],
   "source": [
    "def operations(a, b, c):\n",
    "    a = int(a)\n",
    "    add = a + b\n",
    "    c = float(c)\n",
    "    sub = add - c\n",
    "    sub = str(sub)\n",
    "    string = \" \".join([sub, \"is the answer\"])\n",
    "    return string\n",
    "a = '100'\n",
    "b = 25\n",
    "c = '10.5'"
   ]
  },
  {
   "cell_type": "markdown",
   "id": "e42452b1",
   "metadata": {},
   "source": [
    "# Python Conditional Statements: "
   ]
  },
  {
   "cell_type": "markdown",
   "id": "f6857065",
   "metadata": {},
   "source": [
    "### 11. Positive, Negative, or Zero: Write a Python program that takes a number as input and prints whether it is positive, negative, or zero "
   ]
  },
  {
   "cell_type": "code",
   "execution_count": 13,
   "id": "0b44d889",
   "metadata": {},
   "outputs": [
    {
     "name": "stdout",
     "output_type": "stream",
     "text": [
      "Enter a valid number:-89\n",
      "Negative Number\n"
     ]
    }
   ],
   "source": [
    "def numType(num):\n",
    "    if num > 0:\n",
    "        print(\"Positive Number\")\n",
    "    elif num < 0:\n",
    "        print(\"Negative Number\")\n",
    "    else:\n",
    "        print(\"Zero\")\n",
    "n = int(input(\"Enter a valid number:\"))\n",
    "numType(n)"
   ]
  },
  {
   "cell_type": "markdown",
   "id": "44b65f81",
   "metadata": {},
   "source": [
    "### 12. Largest of Three Numbers: Write a Python program that takes three numbers as input and prints the largest among them. "
   ]
  },
  {
   "cell_type": "code",
   "execution_count": 14,
   "id": "7f9786c2",
   "metadata": {},
   "outputs": [
    {
     "name": "stdout",
     "output_type": "stream",
     "text": [
      "Enter first number: 15\n",
      "Enter Second number: 20\n",
      "Enter Third number: 10\n",
      "20 is the largest value\n"
     ]
    }
   ],
   "source": [
    "def largest(a, b, c):\n",
    "    if a >= b and a >= c:\n",
    "        print(f\"{a} is the largest value\")\n",
    "    elif b >= a and b >= c:\n",
    "        print(f\"{b} is the largest value\")\n",
    "    else:\n",
    "        print(f\"{c} is the largest value\")\n",
    "a = int(input(\"Enter first number: \"))\n",
    "b = int(input(\"Enter Second number: \"))\n",
    "c = int(input(\"Enter Third number: \"))\n",
    "largest(a, b, c)"
   ]
  },
  {
   "cell_type": "markdown",
   "id": "2bbc6e70",
   "metadata": {},
   "source": [
    "### 13. Leap Year Checker: Write a Python program that takes a year as input and determines if it is a leap year or not. "
   ]
  },
  {
   "cell_type": "code",
   "execution_count": 15,
   "id": "b7f7f91b",
   "metadata": {},
   "outputs": [
    {
     "name": "stdout",
     "output_type": "stream",
     "text": [
      "Enter a valid year: 2024\n",
      "2024 is a leap year\n"
     ]
    }
   ],
   "source": [
    "def leapYear(year):\n",
    "    if year % 4 == 0 and year % 100 != 0:\n",
    "        print(f\"{year} is a leap year\")\n",
    "    elif year % 100 == 0 and year % 400 == 0:\n",
    "        print(f\"{year} is a leap year\")\n",
    "    else:\n",
    "        print(f\"{year} is not a leap year\")\n",
    "year = int(input(\"Enter a valid year: \"))\n",
    "leapYear(year)"
   ]
  },
  {
   "cell_type": "markdown",
   "id": "5dd8ae5c",
   "metadata": {},
   "source": [
    "### 14. Grades Classification: Write a Python program that takes a student’s percentage as input and prints their corresponding grade according to the following criteria: – 90% or above: A+ – 80-89%: A – 70-79%: B – 60- 69%: C – Below 60%: Fail "
   ]
  },
  {
   "cell_type": "code",
   "execution_count": 16,
   "id": "a2d13296",
   "metadata": {},
   "outputs": [
    {
     "name": "stdout",
     "output_type": "stream",
     "text": [
      "Enter a valid student percentage:88\n",
      "A\n"
     ]
    }
   ],
   "source": [
    "def grade(percentage):\n",
    "    if percentage < 0 or percentage > 100:\n",
    "        print(\"Please Enter student percentage between 0 and 100\")\n",
    "    elif percentage >= 90 and percentage <= 100:\n",
    "        print(\"A+\")\n",
    "    elif percentage >=80 and percentage <= 89:\n",
    "        print(\"A\")\n",
    "    elif percentage >= 70 and percentage <= 79:\n",
    "        print(\"A-\")\n",
    "    elif percentage >= 60 and percentage <= 69:\n",
    "        print(\"B\")\n",
    "    elif percentage < 60:\n",
    "        print(\"Fail\")\n",
    "percentage = int(input(\"Enter a valid student percentage:\"))\n",
    "grade(percentage)"
   ]
  },
  {
   "cell_type": "markdown",
   "id": "c05aa07b",
   "metadata": {},
   "source": [
    "### 15. Vowel or Consonant: Write a Python program that takes a single character as input and determines whether it is a vowel or a consonant. "
   ]
  },
  {
   "cell_type": "code",
   "execution_count": 24,
   "id": "b6393c66",
   "metadata": {},
   "outputs": [
    {
     "name": "stdout",
     "output_type": "stream",
     "text": [
      "Enter a single character: u\n",
      "u is a vowel\n"
     ]
    }
   ],
   "source": [
    "def CharType(character):\n",
    "    if character in ['a', 'e', 'i', 'o', 'u']:\n",
    "        print(f\"{character} is a vowel\")\n",
    "    else:\n",
    "        print(f\"{character} is a consonant\")\n",
    "character = input(\"Enter a single character: \")\n",
    "CharType(character)"
   ]
  },
  {
   "cell_type": "markdown",
   "id": "b8a6971d",
   "metadata": {},
   "source": [
    "### 16. Time Classification: Write a Python program that takes the time in hours (24-hour format) as input and prints “Good Morning”, “Good Afternoon”, “Good Evening”, or “Good Night” based on the time "
   ]
  },
  {
   "cell_type": "code",
   "execution_count": 26,
   "id": "7c623a0a",
   "metadata": {},
   "outputs": [
    {
     "name": "stdout",
     "output_type": "stream",
     "text": [
      "Enter time in hour format: 11\n",
      "Good Morning\n"
     ]
    }
   ],
   "source": [
    "def Greetings(hour):\n",
    "    if hour < 0 or hour > 24:\n",
    "        print(\"Please enter hour between 0 and 24\")\n",
    "    elif hour >= 5 and hour < 12:\n",
    "        print(\"Good Morning\")\n",
    "    elif hour >= 12 and hour < 16:\n",
    "        print(\"Good Afternoon\")\n",
    "    elif hour >= 16 and hour < 20:\n",
    "        print(\"Good Evening\")\n",
    "    else:\n",
    "        print(\"Good Night\")\n",
    "hour = int(input(\"Enter time in hour format: \"))\n",
    "Greetings(hour)"
   ]
  },
  {
   "cell_type": "code",
   "execution_count": null,
   "id": "eb2e65f1",
   "metadata": {},
   "outputs": [],
   "source": []
  }
 ],
 "metadata": {
  "kernelspec": {
   "display_name": "Python 3 (ipykernel)",
   "language": "python",
   "name": "python3"
  },
  "language_info": {
   "codemirror_mode": {
    "name": "ipython",
    "version": 3
   },
   "file_extension": ".py",
   "mimetype": "text/x-python",
   "name": "python",
   "nbconvert_exporter": "python",
   "pygments_lexer": "ipython3",
   "version": "3.11.7"
  }
 },
 "nbformat": 4,
 "nbformat_minor": 5
}
