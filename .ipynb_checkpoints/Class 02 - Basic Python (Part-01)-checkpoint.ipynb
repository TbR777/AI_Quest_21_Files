{
 "cells": [
  {
   "cell_type": "markdown",
   "id": "4bebe9b4",
   "metadata": {},
   "source": [
    "# Python Learning Resources\n",
    "\n",
    "## Official Python Tutorial\n",
    "The official Python documentation tutorial. It's a great place to start learning Python from scratch, covering all the basics and more.  \n",
    "[Official Python Tutorial](https://docs.python.org/3/tutorial/index.html)\n",
    "\n",
    "## 60 Days of Python - YouTube Playlist\n",
    "A comprehensive YouTube playlist designed to teach you Python, covering various topics to build your programming skills.  \n",
    "[60 Days of Python - YouTube Playlist](https://www.youtube.com/playlist?list=PLKdU0fuY4OFf7qj4eoBtvALAB_Ml2rN0V)\n",
    "\n",
    "## 60 Days of Python - GitHub Repository\n",
    "The GitHub repository for the 60 Days of Python series. It includes all the code and resources used in the YouTube playlist.  \n",
    "[60 Days of Python - GitHub Repository](https://github.com/rashakil-ds/60-Days-of-Python-by-Study-Mart-AI-QUEST)\n",
    "\n",
    "## Python Notes for Professionals - PDF\n",
    "A free PDF book that offers a wide range of Python notes for professionals. It's a useful reference guide for both beginners and advanced users.  \n",
    "[Python Notes for Professionals - PDF](https://github.com/rashakil-ds/Top-Data-Science-AI-Book-Collection/blob/main/Books/Python%20Notes%20For%20Professionals.pdf)\n"
   ]
  },
  {
   "cell_type": "markdown",
   "id": "66dcef4c",
   "metadata": {},
   "source": [
    "# Let's Talk About Python Language"
   ]
  },
  {
   "cell_type": "markdown",
   "id": "a673b55a",
   "metadata": {},
   "source": [
    "# Python Input/Output (I/O)\n",
    "\n",
    "Python provides numerous ways to handle input and output. This is essential for interacting with the user and for reading and writing data to and from files.\n",
    "\n",
    "## Input in Python\n",
    "\n",
    "To get input from the user, you can use the `input()` function. This function reads a line from the input (usually from the user), converts it to a string, and returns it.\n",
    "\n",
    "### Example:\n",
    "```python\n",
    "# Getting user input\n",
    "name = input(\"Enter your name: \") #ami input debo\n",
    "print(\"Hello, \" + name + \"!\") #computer output print korbe\n"
   ]
  },
  {
   "cell_type": "code",
   "execution_count": 1,
   "id": "0a4b24be",
   "metadata": {},
   "outputs": [
    {
     "name": "stdout",
     "output_type": "stream",
     "text": [
      "100\n"
     ]
    },
    {
     "data": {
      "text/plain": [
       "'100'"
      ]
     },
     "execution_count": 1,
     "metadata": {},
     "output_type": "execute_result"
    }
   ],
   "source": [
    "input()"
   ]
  },
  {
   "cell_type": "code",
   "execution_count": 2,
   "id": "e39ca6d0",
   "metadata": {},
   "outputs": [
    {
     "name": "stdout",
     "output_type": "stream",
     "text": [
      "40\n"
     ]
    },
    {
     "data": {
      "text/plain": [
       "'40'"
      ]
     },
     "execution_count": 2,
     "metadata": {},
     "output_type": "execute_result"
    }
   ],
   "source": [
    "input()"
   ]
  },
  {
   "cell_type": "code",
   "execution_count": 3,
   "id": "67cf2c73",
   "metadata": {},
   "outputs": [
    {
     "name": "stdout",
     "output_type": "stream",
     "text": [
      "100\n",
      "40\n"
     ]
    }
   ],
   "source": [
    "x = input()\n",
    "y = input()"
   ]
  },
  {
   "cell_type": "code",
   "execution_count": 4,
   "id": "1b6379c9",
   "metadata": {},
   "outputs": [
    {
     "data": {
      "text/plain": [
       "'100'"
      ]
     },
     "execution_count": 4,
     "metadata": {},
     "output_type": "execute_result"
    }
   ],
   "source": [
    "x"
   ]
  },
  {
   "cell_type": "code",
   "execution_count": 5,
   "id": "b2e54366",
   "metadata": {},
   "outputs": [
    {
     "data": {
      "text/plain": [
       "'40'"
      ]
     },
     "execution_count": 5,
     "metadata": {},
     "output_type": "execute_result"
    }
   ],
   "source": [
    "y"
   ]
  },
  {
   "cell_type": "code",
   "execution_count": 6,
   "id": "2341d26b",
   "metadata": {},
   "outputs": [
    {
     "data": {
      "text/plain": [
       "'10040'"
      ]
     },
     "execution_count": 6,
     "metadata": {},
     "output_type": "execute_result"
    }
   ],
   "source": [
    "x+y"
   ]
  },
  {
   "cell_type": "code",
   "execution_count": 7,
   "id": "46376553",
   "metadata": {},
   "outputs": [
    {
     "name": "stdout",
     "output_type": "stream",
     "text": [
      "enter 1st number10\n",
      "enter 2nd value20\n"
     ]
    }
   ],
   "source": [
    "x = input('enter 1st number')\n",
    "y = input('enter 2nd value')"
   ]
  },
  {
   "cell_type": "code",
   "execution_count": 8,
   "id": "3988ecfa",
   "metadata": {},
   "outputs": [
    {
     "name": "stdout",
     "output_type": "stream",
     "text": [
      "10\n"
     ]
    }
   ],
   "source": [
    "print(x)"
   ]
  },
  {
   "cell_type": "code",
   "execution_count": 9,
   "id": "f89aed1e",
   "metadata": {},
   "outputs": [
    {
     "name": "stdout",
     "output_type": "stream",
     "text": [
      "20\n"
     ]
    }
   ],
   "source": [
    "print(y)"
   ]
  },
  {
   "cell_type": "code",
   "execution_count": 10,
   "id": "39b85b1b",
   "metadata": {},
   "outputs": [
    {
     "data": {
      "text/plain": [
       "30"
      ]
     },
     "execution_count": 10,
     "metadata": {},
     "output_type": "execute_result"
    }
   ],
   "source": [
    "int(x) + int(y)"
   ]
  },
  {
   "cell_type": "code",
   "execution_count": 11,
   "id": "eddd72a5",
   "metadata": {},
   "outputs": [
    {
     "data": {
      "text/plain": [
       "30.0"
      ]
     },
     "execution_count": 11,
     "metadata": {},
     "output_type": "execute_result"
    }
   ],
   "source": [
    "float(x) + float(y)"
   ]
  },
  {
   "cell_type": "code",
   "execution_count": 12,
   "id": "962e4da0",
   "metadata": {},
   "outputs": [
    {
     "data": {
      "text/plain": [
       "'1020'"
      ]
     },
     "execution_count": 12,
     "metadata": {},
     "output_type": "execute_result"
    }
   ],
   "source": [
    "str(x) + str(y)"
   ]
  },
  {
   "cell_type": "code",
   "execution_count": 19,
   "id": "559c1150",
   "metadata": {},
   "outputs": [
    {
     "name": "stdout",
     "output_type": "stream",
     "text": [
      "data science ++++++++++++ ai &&& data science\n"
     ]
    }
   ],
   "source": [
    "print('data science','ai', sep=' ++++++++++++ ', end=' &&& ')\n",
    "print('data science')"
   ]
  },
  {
   "cell_type": "code",
   "execution_count": 20,
   "id": "6881fa75",
   "metadata": {},
   "outputs": [
    {
     "name": "stdout",
     "output_type": "stream",
     "text": [
      "data science\n",
      "data science\n"
     ]
    }
   ],
   "source": [
    "print('data science')\n",
    "print('data science')"
   ]
  },
  {
   "cell_type": "code",
   "execution_count": null,
   "id": "2eec8623",
   "metadata": {},
   "outputs": [],
   "source": []
  },
  {
   "cell_type": "markdown",
   "id": "85f9209e",
   "metadata": {},
   "source": [
    "# Python Variables\n",
    "\n",
    "## What is a Variable?\n",
    "Variables are like a container for storing data. Compares to other programming languages, Python has no command for declaring a variable. A variable is created the moment you first assign a value to it.\n",
    "\n",
    "## Variable Naming Rules\n",
    "When naming variables in Python, there are a few rules to keep in mind:\n",
    "1. **Variable names must start with a letter or the underscore character**.\n",
    "2. **A variable name cannot start with a number**.\n",
    "3. **Variable names can only contain alpha-numeric characters and underscores (A-z, 0-9, and _ )**.\n",
    "4. **Variable names are case-sensitive (age, Age, and AGE are three different variables)**.\n",
    "5. **Reserved words (keywords) cannot be used as variable names**.\n",
    "\n",
    "## Creating Variables\n",
    "In Python, a variable is created the moment you first assign a value to it. Unlike other programming languages, you don't need to declare the type of the variable.\n",
    "\n",
    "### Example:\n",
    "```python\n",
    "x = 5\n",
    "y = \"Hello, aiQuest Intelligence!\"\n"
   ]
  },
  {
   "cell_type": "markdown",
   "id": "68e116d8",
   "metadata": {},
   "source": [
    "Reserved words in Python: https://flexiple.com/python/python-reserved-words <br>\n",
    "global = 10 -> jabena"
   ]
  },
  {
   "cell_type": "code",
   "execution_count": 22,
   "id": "c8df514e",
   "metadata": {},
   "outputs": [],
   "source": [
    "age = 27\n",
    "Age = 28\n",
    "AGE = 29"
   ]
  },
  {
   "cell_type": "code",
   "execution_count": 23,
   "id": "9c4f68cb",
   "metadata": {},
   "outputs": [
    {
     "data": {
      "text/plain": [
       "27"
      ]
     },
     "execution_count": 23,
     "metadata": {},
     "output_type": "execute_result"
    }
   ],
   "source": [
    "age"
   ]
  },
  {
   "cell_type": "code",
   "execution_count": 24,
   "id": "885c2676",
   "metadata": {},
   "outputs": [
    {
     "data": {
      "text/plain": [
       "28"
      ]
     },
     "execution_count": 24,
     "metadata": {},
     "output_type": "execute_result"
    }
   ],
   "source": [
    "Age"
   ]
  },
  {
   "cell_type": "code",
   "execution_count": 25,
   "id": "3223f6e5",
   "metadata": {},
   "outputs": [
    {
     "data": {
      "text/plain": [
       "29"
      ]
     },
     "execution_count": 25,
     "metadata": {},
     "output_type": "execute_result"
    }
   ],
   "source": [
    "AGE"
   ]
  },
  {
   "cell_type": "code",
   "execution_count": 29,
   "id": "ab27ccf9",
   "metadata": {},
   "outputs": [
    {
     "data": {
      "text/plain": [
       "100"
      ]
     },
     "execution_count": 29,
     "metadata": {},
     "output_type": "execute_result"
    }
   ],
   "source": [
    "age10 = 100\n",
    "age10"
   ]
  },
  {
   "cell_type": "code",
   "execution_count": 31,
   "id": "6eefdcf1",
   "metadata": {},
   "outputs": [],
   "source": [
    "# 10age = 10 -> invalid"
   ]
  },
  {
   "cell_type": "code",
   "execution_count": 32,
   "id": "267cad4a",
   "metadata": {},
   "outputs": [
    {
     "data": {
      "text/plain": [
       "100"
      ]
     },
     "execution_count": 32,
     "metadata": {},
     "output_type": "execute_result"
    }
   ],
   "source": [
    "_age = 100\n",
    "_age"
   ]
  },
  {
   "cell_type": "code",
   "execution_count": 34,
   "id": "03c9f4c0",
   "metadata": {},
   "outputs": [],
   "source": [
    "# age& = 20 -> we can't use special char"
   ]
  },
  {
   "cell_type": "code",
   "execution_count": 36,
   "id": "6b425bf9",
   "metadata": {},
   "outputs": [],
   "source": [
    "#my name = 'shakil' -> invalid"
   ]
  },
  {
   "cell_type": "markdown",
   "id": "77452653",
   "metadata": {},
   "source": [
    "# Multi-Word Variable Names in Python\n",
    "\n",
    "When naming variables that consist of multiple words, it's important to follow certain conventions to ensure readability and maintainability of your code. Here are the common conventions used in Python:\n",
    "\n",
    "## 1. Snake Case\n",
    "Snake case is the most common naming convention in Python. In this style, words are separated by underscores (`_`), and all letters are lowercase.\n",
    "\n",
    "### Example:\n",
    "```python\n",
    "first_name = \"Rashedul Alam\"\n",
    "last_name = \"Shakil\"\n",
    "user_age = 27\n"
   ]
  },
  {
   "cell_type": "code",
   "execution_count": null,
   "id": "e1fa3d10",
   "metadata": {},
   "outputs": [],
   "source": [
    "firstname = 'shakil' #its not professional"
   ]
  },
  {
   "cell_type": "code",
   "execution_count": 37,
   "id": "62a46294",
   "metadata": {},
   "outputs": [],
   "source": [
    "first_name = \"Rashedul Alam\"\n",
    "last_name = \"Shakil\"\n",
    "user_age = 27"
   ]
  },
  {
   "cell_type": "code",
   "execution_count": 38,
   "id": "dbef5852",
   "metadata": {},
   "outputs": [
    {
     "data": {
      "text/plain": [
       "'Rashedul Alam'"
      ]
     },
     "execution_count": 38,
     "metadata": {},
     "output_type": "execute_result"
    }
   ],
   "source": [
    "first_name"
   ]
  },
  {
   "cell_type": "code",
   "execution_count": 39,
   "id": "01ffc05e",
   "metadata": {},
   "outputs": [
    {
     "data": {
      "text/plain": [
       "'Shakil'"
      ]
     },
     "execution_count": 39,
     "metadata": {},
     "output_type": "execute_result"
    }
   ],
   "source": [
    "last_name"
   ]
  },
  {
   "cell_type": "code",
   "execution_count": 40,
   "id": "35f48e2b",
   "metadata": {},
   "outputs": [
    {
     "data": {
      "text/plain": [
       "27"
      ]
     },
     "execution_count": 40,
     "metadata": {},
     "output_type": "execute_result"
    }
   ],
   "source": [
    "user_age"
   ]
  },
  {
   "cell_type": "code",
   "execution_count": 41,
   "id": "e3e35508",
   "metadata": {},
   "outputs": [],
   "source": [
    "first_name, last_name, user_age = \"Rashedul Alam\", \"Shakil\", 27"
   ]
  },
  {
   "cell_type": "code",
   "execution_count": 42,
   "id": "505526c2",
   "metadata": {},
   "outputs": [
    {
     "data": {
      "text/plain": [
       "27"
      ]
     },
     "execution_count": 42,
     "metadata": {},
     "output_type": "execute_result"
    }
   ],
   "source": [
    "user_age"
   ]
  },
  {
   "cell_type": "code",
   "execution_count": 43,
   "id": "c57040d1",
   "metadata": {},
   "outputs": [
    {
     "data": {
      "text/plain": [
       "'Shakil'"
      ]
     },
     "execution_count": 43,
     "metadata": {},
     "output_type": "execute_result"
    }
   ],
   "source": [
    "last_name"
   ]
  },
  {
   "cell_type": "code",
   "execution_count": 45,
   "id": "fa8ea8d0",
   "metadata": {},
   "outputs": [],
   "source": [
    "# irst_name, last_name, user_age = \"Rashedul Alam\", \"Shakil\" -> not enough values to unpack (expected 3, got 2)"
   ]
  },
  {
   "cell_type": "code",
   "execution_count": null,
   "id": "ade77900",
   "metadata": {},
   "outputs": [],
   "source": []
  },
  {
   "cell_type": "markdown",
   "id": "15660462",
   "metadata": {},
   "source": [
    "## 2. Camel Case\n",
    "Camel Case is a naming convention where the first letter of the first word is lowercase, and the first letter of each subsequent concatenated word is capitalized. This convention is commonly used in many programming languages but is less common for variable names in Python.\n",
    "\n",
    "### Example:\n",
    "```python\n",
    "firstName = \"Rashedul Alam\"\n",
    "lastName = \"Shakil\"\n",
    "userAge = 27\n"
   ]
  },
  {
   "cell_type": "code",
   "execution_count": 46,
   "id": "036ac052",
   "metadata": {},
   "outputs": [
    {
     "data": {
      "text/plain": [
       "'Rashedul Alam'"
      ]
     },
     "execution_count": 46,
     "metadata": {},
     "output_type": "execute_result"
    }
   ],
   "source": [
    "firstName = \"Rashedul Alam\" \n",
    "firstName "
   ]
  },
  {
   "cell_type": "code",
   "execution_count": 47,
   "id": "5b1ea2d6",
   "metadata": {},
   "outputs": [],
   "source": [
    "mySchoolName = 'DM'"
   ]
  },
  {
   "cell_type": "code",
   "execution_count": 48,
   "id": "c02cb738",
   "metadata": {},
   "outputs": [
    {
     "data": {
      "text/plain": [
       "'DM'"
      ]
     },
     "execution_count": 48,
     "metadata": {},
     "output_type": "execute_result"
    }
   ],
   "source": [
    "mySchoolName"
   ]
  },
  {
   "cell_type": "code",
   "execution_count": 51,
   "id": "63eb0f47",
   "metadata": {},
   "outputs": [],
   "source": [
    "MYUNIVERSITYNAME = 1\n",
    "BYSCHIEALDKSKOSTORER = 2\n",
    "ahsJdeoFmfsLpps = 3"
   ]
  },
  {
   "cell_type": "markdown",
   "id": "4d4ef4cd",
   "metadata": {},
   "source": [
    "## 3. Pascal Case in Python\n",
    "\n",
    "Pascal Case is similar to Camel Case, but with Pascal Case, the first letter of every word is capitalized, including the first word. This helps in distinguishing class names from variable names, which typically use Snake Case in Python.\n",
    "\n",
    "### Example:\n",
    "```python\n",
    "FirstName = \"Rashedul Alam\"\n",
    "LastName = \"Shakil\"\n",
    "UserAge = 27\n"
   ]
  },
  {
   "cell_type": "code",
   "execution_count": 52,
   "id": "68f2f189",
   "metadata": {},
   "outputs": [],
   "source": [
    "FirstName = \"Rashedul Alam\"\n",
    "LastName = \"Shakil\"\n",
    "UserAge = 27"
   ]
  },
  {
   "cell_type": "code",
   "execution_count": 53,
   "id": "5a9ca687",
   "metadata": {},
   "outputs": [
    {
     "data": {
      "text/plain": [
       "'Rashedul Alam'"
      ]
     },
     "execution_count": 53,
     "metadata": {},
     "output_type": "execute_result"
    }
   ],
   "source": [
    "FirstName"
   ]
  },
  {
   "cell_type": "code",
   "execution_count": 54,
   "id": "d17e71d7",
   "metadata": {},
   "outputs": [
    {
     "data": {
      "text/plain": [
       "'Shakil'"
      ]
     },
     "execution_count": 54,
     "metadata": {},
     "output_type": "execute_result"
    }
   ],
   "source": [
    "LastName"
   ]
  },
  {
   "cell_type": "code",
   "execution_count": 55,
   "id": "7e236423",
   "metadata": {},
   "outputs": [
    {
     "data": {
      "text/plain": [
       "27"
      ]
     },
     "execution_count": 55,
     "metadata": {},
     "output_type": "execute_result"
    }
   ],
   "source": [
    "UserAge"
   ]
  },
  {
   "cell_type": "markdown",
   "id": "282b7821",
   "metadata": {},
   "source": [
    "# Local Vs. Global Variables"
   ]
  },
  {
   "cell_type": "markdown",
   "id": "09b73603",
   "metadata": {},
   "source": [
    "1. Global Variable: Variables that are created outside of a function are known as global variables. Global variables can be used by everyone, both inside of functions and outside. <br>\n",
    " \n",
    "2. Local Variable: Variables that are created inside of a function are known as local variables. local variables can be used inside of the function.\n"
   ]
  },
  {
   "cell_type": "code",
   "execution_count": 56,
   "id": "f46a95e2",
   "metadata": {},
   "outputs": [],
   "source": [
    "def MyF():\n",
    "    h = 100 #local\n",
    "    print(h)"
   ]
  },
  {
   "cell_type": "code",
   "execution_count": 57,
   "id": "f3de1491",
   "metadata": {},
   "outputs": [
    {
     "name": "stdout",
     "output_type": "stream",
     "text": [
      "100\n"
     ]
    }
   ],
   "source": [
    "MyF()"
   ]
  },
  {
   "cell_type": "code",
   "execution_count": 58,
   "id": "035f82ec",
   "metadata": {},
   "outputs": [],
   "source": [
    "def MyF():\n",
    "    h = 100\n",
    "    return h"
   ]
  },
  {
   "cell_type": "code",
   "execution_count": 59,
   "id": "84578a77",
   "metadata": {},
   "outputs": [
    {
     "data": {
      "text/plain": [
       "100"
      ]
     },
     "execution_count": 59,
     "metadata": {},
     "output_type": "execute_result"
    }
   ],
   "source": [
    "MyF()"
   ]
  },
  {
   "cell_type": "code",
   "execution_count": 62,
   "id": "e684a940",
   "metadata": {},
   "outputs": [],
   "source": [
    "#h #NameError: name 'h' is not defined"
   ]
  },
  {
   "cell_type": "code",
   "execution_count": 64,
   "id": "48c223c2",
   "metadata": {},
   "outputs": [],
   "source": [
    "k = 20 #global\n",
    "def myf():\n",
    "    #h = 100\n",
    "    print(k)"
   ]
  },
  {
   "cell_type": "code",
   "execution_count": 65,
   "id": "7eb9397d",
   "metadata": {},
   "outputs": [
    {
     "name": "stdout",
     "output_type": "stream",
     "text": [
      "20\n"
     ]
    }
   ],
   "source": [
    "myf()"
   ]
  },
  {
   "cell_type": "code",
   "execution_count": 66,
   "id": "14c4ff29",
   "metadata": {},
   "outputs": [
    {
     "data": {
      "text/plain": [
       "20"
      ]
     },
     "execution_count": 66,
     "metadata": {},
     "output_type": "execute_result"
    }
   ],
   "source": [
    "k"
   ]
  },
  {
   "cell_type": "code",
   "execution_count": 67,
   "id": "dfae75cb",
   "metadata": {},
   "outputs": [],
   "source": [
    "k = 20 #global\n",
    "def myf():\n",
    "    global h\n",
    "    h = 100\n",
    "    print(h)"
   ]
  },
  {
   "cell_type": "code",
   "execution_count": 68,
   "id": "205a263f",
   "metadata": {},
   "outputs": [
    {
     "name": "stdout",
     "output_type": "stream",
     "text": [
      "100\n"
     ]
    }
   ],
   "source": [
    "myf()"
   ]
  },
  {
   "cell_type": "code",
   "execution_count": 69,
   "id": "96532df1",
   "metadata": {},
   "outputs": [
    {
     "data": {
      "text/plain": [
       "100"
      ]
     },
     "execution_count": 69,
     "metadata": {},
     "output_type": "execute_result"
    }
   ],
   "source": [
    "h"
   ]
  },
  {
   "cell_type": "code",
   "execution_count": 70,
   "id": "d00c60d4",
   "metadata": {},
   "outputs": [
    {
     "data": {
      "text/plain": [
       "30"
      ]
     },
     "execution_count": 70,
     "metadata": {},
     "output_type": "execute_result"
    }
   ],
   "source": [
    "def add():\n",
    "    a=10\n",
    "    b=20\n",
    "    return a+b\n",
    "\n",
    "add()"
   ]
  },
  {
   "cell_type": "code",
   "execution_count": 71,
   "id": "227fb7a7",
   "metadata": {},
   "outputs": [
    {
     "data": {
      "text/plain": [
       "30"
      ]
     },
     "execution_count": 71,
     "metadata": {},
     "output_type": "execute_result"
    }
   ],
   "source": [
    "add()"
   ]
  },
  {
   "cell_type": "code",
   "execution_count": 72,
   "id": "54dd827e",
   "metadata": {},
   "outputs": [
    {
     "data": {
      "text/plain": [
       "40"
      ]
     },
     "execution_count": 72,
     "metadata": {},
     "output_type": "execute_result"
    }
   ],
   "source": [
    "def add(a, b):\n",
    "    return a+b\n",
    "add(10,30)"
   ]
  },
  {
   "cell_type": "code",
   "execution_count": null,
   "id": "5670bfb1",
   "metadata": {},
   "outputs": [],
   "source": []
  },
  {
   "cell_type": "markdown",
   "id": "49f7f7f8",
   "metadata": {},
   "source": [
    "# All about Python Strings"
   ]
  },
  {
   "cell_type": "markdown",
   "id": "d8d3f4db",
   "metadata": {},
   "source": [
    "# All About Python Strings\n",
    "\n",
    "## Introduction\n",
    "Strings in Python are sequences of characters enclosed in quotes. They are one of the most commonly used data types in Python, allowing you to work with text data.\n",
    "\n",
    "## Creating Strings\n",
    "You can create a string in Python by enclosing characters in either single quotes `'`, double quotes `\"`, or triple quotes `'''` or `\"\"\"`.\n",
    "\n",
    "### Examples:\n",
    "```python\n",
    "single_quote_string = 'Hello'\n",
    "double_quote_string = \"World\"\n",
    "triple_quote_string = '''This is a\n",
    "multi-line string.'''\n",
    "another_triple_quote_string = \"\"\"This is also a\n",
    "multi-line string.\"\"\"\n"
   ]
  },
  {
   "cell_type": "code",
   "execution_count": 73,
   "id": "97f19b27",
   "metadata": {},
   "outputs": [],
   "source": [
    "single_quote_string = 'Hello'\n",
    "double_quote_string = \"World\"\n",
    "triple_quote_string = '''This is a\n",
    "multi-line string.'''\n",
    "another_triple_quote_string = \"\"\"This is also a\n",
    "multi-line string.\"\"\""
   ]
  },
  {
   "cell_type": "code",
   "execution_count": 74,
   "id": "5a998150",
   "metadata": {},
   "outputs": [
    {
     "data": {
      "text/plain": [
       "'Hello'"
      ]
     },
     "execution_count": 74,
     "metadata": {},
     "output_type": "execute_result"
    }
   ],
   "source": [
    "single_quote_string"
   ]
  },
  {
   "cell_type": "code",
   "execution_count": 75,
   "id": "48516e5a",
   "metadata": {},
   "outputs": [
    {
     "data": {
      "text/plain": [
       "'World'"
      ]
     },
     "execution_count": 75,
     "metadata": {},
     "output_type": "execute_result"
    }
   ],
   "source": [
    "double_quote_string"
   ]
  },
  {
   "cell_type": "code",
   "execution_count": 76,
   "id": "21358130",
   "metadata": {},
   "outputs": [
    {
     "data": {
      "text/plain": [
       "'This is a\\nmulti-line string.'"
      ]
     },
     "execution_count": 76,
     "metadata": {},
     "output_type": "execute_result"
    }
   ],
   "source": [
    "triple_quote_string"
   ]
  },
  {
   "cell_type": "code",
   "execution_count": 77,
   "id": "daf4cd20",
   "metadata": {},
   "outputs": [
    {
     "data": {
      "text/plain": [
       "str"
      ]
     },
     "execution_count": 77,
     "metadata": {},
     "output_type": "execute_result"
    }
   ],
   "source": [
    "type(triple_quote_string)"
   ]
  },
  {
   "cell_type": "code",
   "execution_count": 78,
   "id": "11b3be83",
   "metadata": {},
   "outputs": [
    {
     "data": {
      "text/plain": [
       "str"
      ]
     },
     "execution_count": 78,
     "metadata": {},
     "output_type": "execute_result"
    }
   ],
   "source": [
    "type(another_triple_quote_string)"
   ]
  },
  {
   "cell_type": "code",
   "execution_count": 79,
   "id": "9c1acbd3",
   "metadata": {},
   "outputs": [
    {
     "data": {
      "text/plain": [
       "int"
      ]
     },
     "execution_count": 79,
     "metadata": {},
     "output_type": "execute_result"
    }
   ],
   "source": [
    "type(10)"
   ]
  },
  {
   "cell_type": "code",
   "execution_count": null,
   "id": "1dfd0a46",
   "metadata": {},
   "outputs": [],
   "source": []
  },
  {
   "cell_type": "markdown",
   "id": "40067ab4",
   "metadata": {},
   "source": [
    "# Common String Methods in Python\n",
    "\n",
    "## String Methods\n",
    "\n",
    "- `capitalize()`\n",
    "- `casefold()`\n",
    "- `center()`\n",
    "- `count()`\n",
    "- `encode()`\n",
    "- `endswith()`\n",
    "- `expandtabs()`\n",
    "- `find()`\n",
    "- `format()`\n",
    "- `format_map()`\n",
    "- `index()`\n",
    "- `isalnum()`\n",
    "- `isalpha()`\n",
    "- `isascii()`\n",
    "- `isdecimal()`\n",
    "- `isdigit()`\n",
    "- `isidentifier()`\n",
    "- `islower()`\n",
    "- `isnumeric()`\n",
    "- `isprintable()`\n",
    "- `isspace()`\n",
    "- `istitle()`\n",
    "- `isupper()`\n",
    "- `join()`\n",
    "- `ljust()`\n",
    "- `lower()`\n",
    "- `lstrip()`\n",
    "- `maketrans()`\n",
    "- `partition()`\n",
    "- `replace()`\n",
    "- `rfind()`\n",
    "- `rindex()`\n",
    "- `rjust()`\n",
    "- `rpartition()`\n",
    "- `rsplit()`\n",
    "- `rstrip()`\n",
    "- `split()`\n",
    "- `splitlines()`\n",
    "- `startswith()`\n",
    "- `strip()`\n",
    "- `swapcase()`\n",
    "- `title()`\n",
    "- `translate()`\n",
    "- `upper()`\n",
    "- `zfill()`\n",
    "\n",
    "These methods provide various ways to manipulate and handle strings in Python, allowing for extensive text processing and formatting capabilities.\n"
   ]
  },
  {
   "cell_type": "code",
   "execution_count": 80,
   "id": "2f329c59",
   "metadata": {},
   "outputs": [],
   "source": [
    "x = 'I love Data Science'"
   ]
  },
  {
   "cell_type": "code",
   "execution_count": 81,
   "id": "acb78fde",
   "metadata": {
    "scrolled": true
   },
   "outputs": [
    {
     "data": {
      "text/plain": [
       "'I LOVE DATA SCIENCE'"
      ]
     },
     "execution_count": 81,
     "metadata": {},
     "output_type": "execute_result"
    }
   ],
   "source": [
    "x.upper()"
   ]
  },
  {
   "cell_type": "code",
   "execution_count": 82,
   "id": "8073c126",
   "metadata": {},
   "outputs": [
    {
     "data": {
      "text/plain": [
       "'i love data science'"
      ]
     },
     "execution_count": 82,
     "metadata": {},
     "output_type": "execute_result"
    }
   ],
   "source": [
    "x.lower()"
   ]
  },
  {
   "cell_type": "code",
   "execution_count": 83,
   "id": "73440352",
   "metadata": {},
   "outputs": [
    {
     "data": {
      "text/plain": [
       "['I', 'love', 'Data', 'Science']"
      ]
     },
     "execution_count": 83,
     "metadata": {},
     "output_type": "execute_result"
    }
   ],
   "source": [
    "x.split()"
   ]
  },
  {
   "cell_type": "code",
   "execution_count": 84,
   "id": "63dd2013",
   "metadata": {},
   "outputs": [
    {
     "data": {
      "text/plain": [
       "'I love data science'"
      ]
     },
     "execution_count": 84,
     "metadata": {},
     "output_type": "execute_result"
    }
   ],
   "source": [
    "x.capitalize()"
   ]
  },
  {
   "cell_type": "code",
   "execution_count": 85,
   "id": "0eaf4cc4",
   "metadata": {},
   "outputs": [
    {
     "data": {
      "text/plain": [
       "'I Love Data Science'"
      ]
     },
     "execution_count": 85,
     "metadata": {},
     "output_type": "execute_result"
    }
   ],
   "source": [
    "x.title()"
   ]
  },
  {
   "cell_type": "code",
   "execution_count": 86,
   "id": "11237bc2",
   "metadata": {},
   "outputs": [
    {
     "data": {
      "text/plain": [
       "'i love data science'"
      ]
     },
     "execution_count": 86,
     "metadata": {},
     "output_type": "execute_result"
    }
   ],
   "source": [
    "x.casefold()"
   ]
  },
  {
   "cell_type": "code",
   "execution_count": 88,
   "id": "bbdc74b8",
   "metadata": {},
   "outputs": [
    {
     "data": {
      "text/plain": [
       "False"
      ]
     },
     "execution_count": 88,
     "metadata": {},
     "output_type": "execute_result"
    }
   ],
   "source": [
    "x.isalnum()"
   ]
  },
  {
   "cell_type": "code",
   "execution_count": 89,
   "id": "fa0655b0",
   "metadata": {},
   "outputs": [
    {
     "data": {
      "text/plain": [
       "False"
      ]
     },
     "execution_count": 89,
     "metadata": {},
     "output_type": "execute_result"
    }
   ],
   "source": [
    "x.isdigit()"
   ]
  },
  {
   "cell_type": "markdown",
   "id": "f8d3ada2",
   "metadata": {},
   "source": [
    "# Staring Formating"
   ]
  },
  {
   "cell_type": "markdown",
   "id": "f637063f",
   "metadata": {},
   "source": [
    "# String Formatting in Python\n",
    "\n",
    "String formatting in Python allows you to create formatted strings by embedding values and expressions into string literals. There are several ways to format strings in Python:\n",
    "\n",
    "## 1. Using the `%` Operator\n",
    "The `%` operator (also known as the printf operator) allows you to format strings using placeholders.\n",
    "\n",
    "### Example:\n",
    "```python\n",
    "name = \"Shakil\"\n",
    "age = 27\n",
    "formatted_string = \"My name is %s and I am %d years old.\" % (name, age)\n",
    "print(formatted_string)  # Output: My name is Shakil and I am 27 years old.\n"
   ]
  },
  {
   "cell_type": "code",
   "execution_count": 90,
   "id": "786b66a3",
   "metadata": {},
   "outputs": [
    {
     "name": "stdout",
     "output_type": "stream",
     "text": [
      "My name is Shakil and I am 27 years old.\n"
     ]
    }
   ],
   "source": [
    "name = \"Shakil\"\n",
    "age = 27\n",
    "formatted_string = \"My name is %s and I am %d years old.\" % (name, age)\n",
    "print(formatted_string)"
   ]
  },
  {
   "cell_type": "code",
   "execution_count": 91,
   "id": "3ded707c",
   "metadata": {},
   "outputs": [
    {
     "name": "stdout",
     "output_type": "stream",
     "text": [
      "My age is 28 years \n"
     ]
    }
   ],
   "source": [
    "Age = 28\n",
    "print('My age is {} years '.format(Age))"
   ]
  },
  {
   "cell_type": "code",
   "execution_count": 93,
   "id": "15260c49",
   "metadata": {},
   "outputs": [
    {
     "name": "stdout",
     "output_type": "stream",
     "text": [
      "my age is 29 years\n"
     ]
    }
   ],
   "source": [
    "print('my age is', AGE, 'years')"
   ]
  },
  {
   "cell_type": "code",
   "execution_count": 94,
   "id": "a4adf6aa",
   "metadata": {},
   "outputs": [
    {
     "name": "stdout",
     "output_type": "stream",
     "text": [
      "my age is 30 years\n"
     ]
    }
   ],
   "source": [
    "AGE = 30\n",
    "print('my age is', AGE, 'years')"
   ]
  },
  {
   "cell_type": "code",
   "execution_count": 95,
   "id": "96ab9949",
   "metadata": {},
   "outputs": [
    {
     "data": {
      "text/plain": [
       "30"
      ]
     },
     "execution_count": 95,
     "metadata": {},
     "output_type": "execute_result"
    }
   ],
   "source": [
    "AGE"
   ]
  },
  {
   "cell_type": "code",
   "execution_count": null,
   "id": "4ece6444",
   "metadata": {},
   "outputs": [],
   "source": []
  },
  {
   "cell_type": "markdown",
   "id": "d11e067c",
   "metadata": {},
   "source": [
    "# If-Else Statements"
   ]
  },
  {
   "cell_type": "markdown",
   "id": "593f5c79",
   "metadata": {},
   "source": [
    "# If-Else Statements in Python\n",
    "\n",
    "## Introduction\n",
    "If-else statements in Python are used to execute a block of code based on a condition. If the condition is true, a certain block of code is executed. If the condition is false, an alternative block of code can be executed.\n",
    "\n",
    "## Syntax\n",
    "The basic syntax of an if-else statement is:\n",
    "```python\n",
    "if condition:\n",
    "    # code block to execute if condition is true\n",
    "else:\n",
    "    # code block to execute if condition is false\n"
   ]
  },
  {
   "cell_type": "code",
   "execution_count": 96,
   "id": "8c415775",
   "metadata": {},
   "outputs": [
    {
     "name": "stdout",
     "output_type": "stream",
     "text": [
      "None\n"
     ]
    }
   ],
   "source": [
    "x = 20\n",
    "y = 30\n",
    "z = 100\n",
    "\n",
    "if x>y:\n",
    "    print('x =',x)\n",
    "\n",
    "else:\n",
    "    print('None')"
   ]
  },
  {
   "cell_type": "code",
   "execution_count": 97,
   "id": "6964787d",
   "metadata": {},
   "outputs": [
    {
     "name": "stdout",
     "output_type": "stream",
     "text": [
      "y = 30\n"
     ]
    }
   ],
   "source": [
    "x = 20\n",
    "y = 30\n",
    "z = 100\n",
    "\n",
    "if x>y:\n",
    "    print('x =',x)\n",
    "\n",
    "elif y>x:\n",
    "    print('y =',y)\n",
    "    \n",
    "else:\n",
    "    print('None')"
   ]
  },
  {
   "cell_type": "code",
   "execution_count": 98,
   "id": "1dc944fc",
   "metadata": {},
   "outputs": [
    {
     "name": "stdout",
     "output_type": "stream",
     "text": [
      "y = 30\n"
     ]
    }
   ],
   "source": [
    "x = 20\n",
    "y = 30\n",
    "z = 100\n",
    "\n",
    "if x>y:\n",
    "    print('x =',x)\n",
    "\n",
    "elif y>x:\n",
    "    if (y%2==1):\n",
    "        print('odd')\n",
    "    print('y =',y)\n",
    "    \n",
    "else:\n",
    "    print('None')"
   ]
  },
  {
   "cell_type": "code",
   "execution_count": 99,
   "id": "5f5b32a5",
   "metadata": {},
   "outputs": [
    {
     "data": {
      "text/plain": [
       "0"
      ]
     },
     "execution_count": 99,
     "metadata": {},
     "output_type": "execute_result"
    }
   ],
   "source": [
    "10%2 #remainder/vagses"
   ]
  },
  {
   "cell_type": "code",
   "execution_count": 100,
   "id": "c0dda196",
   "metadata": {},
   "outputs": [
    {
     "name": "stdout",
     "output_type": "stream",
     "text": [
      "odd\n",
      "y = 30\n"
     ]
    }
   ],
   "source": [
    "x = 20\n",
    "y = 30\n",
    "z = 100\n",
    "\n",
    "if x>y:\n",
    "    print('x =',x)\n",
    "\n",
    "elif y>x:\n",
    "    if (y%2==0):\n",
    "        print('odd')\n",
    "    print('y =',y)\n",
    "    \n",
    "else:\n",
    "    print('None')"
   ]
  },
  {
   "cell_type": "code",
   "execution_count": 101,
   "id": "14f4f47d",
   "metadata": {},
   "outputs": [
    {
     "name": "stdout",
     "output_type": "stream",
     "text": [
      "odd\n",
      "y = 30\n"
     ]
    }
   ],
   "source": [
    "x = 20\n",
    "y = 30\n",
    "z = 100\n",
    "\n",
    "if x>y:\n",
    "    print('x =',x)\n",
    "\n",
    "if y>x:\n",
    "    if (y%2==0):\n",
    "        print('odd')\n",
    "    print('y =',y)\n",
    "    \n",
    "else:\n",
    "    print('None')"
   ]
  },
  {
   "cell_type": "code",
   "execution_count": 102,
   "id": "c492a402",
   "metadata": {},
   "outputs": [
    {
     "name": "stdout",
     "output_type": "stream",
     "text": [
      "1\n",
      "4\n",
      "7\n",
      "z is largest\n"
     ]
    }
   ],
   "source": [
    "x = int(input())\n",
    "y = int(input())\n",
    "z = int(input())\n",
    "\n",
    "if (x>y) and (x>z):\n",
    "    print('x is largest')\n",
    "    \n",
    "elif (y>x) and (y>z):\n",
    "    print('y is largest')\n",
    "\n",
    "else:\n",
    "    print('z is largest')"
   ]
  },
  {
   "cell_type": "code",
   "execution_count": 103,
   "id": "bfc85eee",
   "metadata": {},
   "outputs": [
    {
     "name": "stdout",
     "output_type": "stream",
     "text": [
      "20\n",
      "3\n",
      "5\n",
      "x is largest\n"
     ]
    }
   ],
   "source": [
    "x = int(input())\n",
    "y = int(input())\n",
    "z = int(input())\n",
    "\n",
    "if (x>y) and (x>z):\n",
    "    print('x is largest')\n",
    "    \n",
    "elif (y>x) and (y>z):\n",
    "    print('y is largest')\n",
    "\n",
    "else:\n",
    "    print('z is largest')"
   ]
  },
  {
   "cell_type": "markdown",
   "id": "1b3696bf",
   "metadata": {},
   "source": [
    "# For Loops in Python\n",
    "\n",
    "## Introduction\n",
    "A `for` loop in Python is used to iterate over a sequence (such as a list, tuple, dictionary, set, or string) and execute a block of code for each item in the sequence. It is one of the most common control flow statements in Python.\n",
    "\n",
    "## Syntax\n",
    "The basic syntax of a `for` loop is:\n",
    "```python\n",
    "for item in sequence:\n",
    "    # code block to execute\n"
   ]
  },
  {
   "cell_type": "code",
   "execution_count": 104,
   "id": "4c7d2db3",
   "metadata": {},
   "outputs": [
    {
     "data": {
      "text/plain": [
       "range(0, 10)"
      ]
     },
     "execution_count": 104,
     "metadata": {},
     "output_type": "execute_result"
    }
   ],
   "source": [
    "range(10)"
   ]
  },
  {
   "cell_type": "code",
   "execution_count": 105,
   "id": "c6d9ce92",
   "metadata": {},
   "outputs": [
    {
     "name": "stdout",
     "output_type": "stream",
     "text": [
      "0\n",
      "1\n",
      "2\n",
      "3\n",
      "4\n",
      "5\n",
      "6\n",
      "7\n",
      "8\n",
      "9\n"
     ]
    }
   ],
   "source": [
    "for x in range(10):\n",
    "    print(x)"
   ]
  },
  {
   "cell_type": "code",
   "execution_count": 108,
   "id": "a2eff838",
   "metadata": {},
   "outputs": [
    {
     "name": "stdout",
     "output_type": "stream",
     "text": [
      "5\n",
      "6\n",
      "7\n",
      "8\n",
      "9\n"
     ]
    }
   ],
   "source": [
    "for x in range(5,10): # start from index x and end index (x-1)\n",
    "    print(x)"
   ]
  },
  {
   "cell_type": "code",
   "execution_count": 110,
   "id": "ffc329a5",
   "metadata": {},
   "outputs": [],
   "source": [
    "data = 'I love data science'"
   ]
  },
  {
   "cell_type": "code",
   "execution_count": 111,
   "id": "aeb5942a",
   "metadata": {},
   "outputs": [
    {
     "name": "stdout",
     "output_type": "stream",
     "text": [
      "I\n",
      " \n",
      "l\n",
      "o\n",
      "v\n",
      "e\n",
      " \n",
      "d\n",
      "a\n",
      "t\n",
      "a\n",
      " \n",
      "s\n",
      "c\n",
      "i\n",
      "e\n",
      "n\n",
      "c\n",
      "e\n"
     ]
    }
   ],
   "source": [
    "for i in data:\n",
    "    print(i)"
   ]
  },
  {
   "cell_type": "code",
   "execution_count": 112,
   "id": "55a43279",
   "metadata": {},
   "outputs": [
    {
     "name": "stdout",
     "output_type": "stream",
     "text": [
      "I\n",
      "love\n",
      "data\n",
      "science\n"
     ]
    }
   ],
   "source": [
    "for i in data.split():\n",
    "    print(i)"
   ]
  },
  {
   "cell_type": "code",
   "execution_count": 113,
   "id": "0b249748",
   "metadata": {
    "scrolled": true
   },
   "outputs": [
    {
     "data": {
      "text/plain": [
       "['I', 'love', 'data', 'science']"
      ]
     },
     "execution_count": 113,
     "metadata": {},
     "output_type": "execute_result"
    }
   ],
   "source": [
    "data.split()"
   ]
  },
  {
   "cell_type": "code",
   "execution_count": 114,
   "id": "16da66cc",
   "metadata": {},
   "outputs": [
    {
     "name": "stdout",
     "output_type": "stream",
     "text": [
      "1 data science\n",
      "2 data science\n",
      "3 data science\n",
      "4 data science\n"
     ]
    }
   ],
   "source": [
    "for i in range(1,5):\n",
    "    print(i, 'data science')"
   ]
  },
  {
   "cell_type": "code",
   "execution_count": 116,
   "id": "a5183cc5",
   "metadata": {},
   "outputs": [
    {
     "name": "stdout",
     "output_type": "stream",
     "text": [
      "data science\n",
      "data science\n",
      "data science\n",
      "data science\n",
      "data science\n"
     ]
    }
   ],
   "source": [
    "for i in range(1,6):\n",
    "    print('data science')"
   ]
  },
  {
   "cell_type": "code",
   "execution_count": 117,
   "id": "3e8ad831",
   "metadata": {},
   "outputs": [
    {
     "name": "stdout",
     "output_type": "stream",
     "text": [
      "1 data science\n",
      "3 data science\n",
      "5 data science\n",
      "7 data science\n",
      "9 data science\n"
     ]
    }
   ],
   "source": [
    "for i in range(1,10,2):\n",
    "    print(i, 'data science')"
   ]
  },
  {
   "cell_type": "code",
   "execution_count": 118,
   "id": "7a3de7e2",
   "metadata": {},
   "outputs": [
    {
     "name": "stdout",
     "output_type": "stream",
     "text": [
      "100 data science\n",
      "90 data science\n",
      "80 data science\n",
      "70 data science\n",
      "60 data science\n",
      "50 data science\n",
      "40 data science\n",
      "30 data science\n",
      "20 data science\n",
      "10 data science\n"
     ]
    }
   ],
   "source": [
    "for i in range(100, 1, -10):\n",
    "    print(i, 'data science')"
   ]
  },
  {
   "cell_type": "code",
   "execution_count": null,
   "id": "29b50a14",
   "metadata": {},
   "outputs": [],
   "source": []
  },
  {
   "cell_type": "markdown",
   "id": "06c2917c",
   "metadata": {},
   "source": [
    "# While Loops in Python\n",
    "\n",
    "## Introduction\n",
    "A `while` loop in Python is used to repeatedly execute a block of code as long as a given condition is true. It is useful for situations where you do not know beforehand how many times you need to repeat a block of code.\n",
    "\n",
    "## Syntax\n",
    "The basic syntax of a `while` loop is:\n",
    "```python\n",
    "while condition:\n",
    "    # code block to execute\n"
   ]
  },
  {
   "cell_type": "code",
   "execution_count": 119,
   "id": "eb7d5d19",
   "metadata": {},
   "outputs": [
    {
     "name": "stdout",
     "output_type": "stream",
     "text": [
      "data science\n",
      "data science\n",
      "data science\n",
      "data science\n",
      "data science\n"
     ]
    }
   ],
   "source": [
    "for i in range(1,6,1):\n",
    "    print('data science')"
   ]
  },
  {
   "cell_type": "code",
   "execution_count": 120,
   "id": "6ee1fed6",
   "metadata": {},
   "outputs": [
    {
     "name": "stdout",
     "output_type": "stream",
     "text": [
      "data science\n",
      "data science\n",
      "data science\n",
      "data science\n",
      "data science\n"
     ]
    }
   ],
   "source": [
    "i = 1\n",
    "while i<10:\n",
    "    print('data science')\n",
    "    i = i+2"
   ]
  },
  {
   "cell_type": "code",
   "execution_count": 121,
   "id": "6feee855",
   "metadata": {},
   "outputs": [
    {
     "name": "stdout",
     "output_type": "stream",
     "text": [
      "1 data science\n",
      "3 data science\n",
      "5 data science\n",
      "7 data science\n",
      "9 data science\n"
     ]
    }
   ],
   "source": [
    "i = 1\n",
    "while i<10:\n",
    "    print(i, 'data science')\n",
    "    i = i+2"
   ]
  },
  {
   "cell_type": "code",
   "execution_count": null,
   "id": "8c34fa4d",
   "metadata": {},
   "outputs": [],
   "source": []
  }
 ],
 "metadata": {
  "kernelspec": {
   "display_name": "Python 3 (ipykernel)",
   "language": "python",
   "name": "python3"
  },
  "language_info": {
   "codemirror_mode": {
    "name": "ipython",
    "version": 3
   },
   "file_extension": ".py",
   "mimetype": "text/x-python",
   "name": "python",
   "nbconvert_exporter": "python",
   "pygments_lexer": "ipython3",
   "version": "3.11.7"
  }
 },
 "nbformat": 4,
 "nbformat_minor": 5
}
